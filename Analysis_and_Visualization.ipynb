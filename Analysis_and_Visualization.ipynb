{
 "cells": [
  {
   "cell_type": "code",
   "execution_count": 12,
   "id": "90a21fb6",
   "metadata": {},
   "outputs": [],
   "source": [
    "# Imports\n",
    "\n",
    "import pandas as pd\n",
    "import calendar\n",
    "import plotly.express as px\n",
    "import hvplot.pandas\n",
    "from sqlalchemy import create_engine\n",
    "import sqlalchemy as sal\n",
    "import matplotlib.pyplot as plt"
   ]
  },
  {
   "cell_type": "code",
   "execution_count": 13,
   "id": "3ec21e65",
   "metadata": {},
   "outputs": [],
   "source": [
    "# Connection to Postgre database\n",
    "\n",
    "engine = create_engine(\"postgresql://{0}:{1}@{2}/{3}\".format(\"postgres\",\"dynasty\",\"localhost:5432\",\"Credit_Card_Fraud_Detection\"))"
   ]
  },
  {
   "cell_type": "code",
   "execution_count": 14,
   "id": "b4941c24",
   "metadata": {},
   "outputs": [
    {
     "data": {
      "text/html": [
       "<div>\n",
       "<style scoped>\n",
       "    .dataframe tbody tr th:only-of-type {\n",
       "        vertical-align: middle;\n",
       "    }\n",
       "\n",
       "    .dataframe tbody tr th {\n",
       "        vertical-align: top;\n",
       "    }\n",
       "\n",
       "    .dataframe thead th {\n",
       "        text-align: right;\n",
       "    }\n",
       "</style>\n",
       "<table border=\"1\" class=\"dataframe\">\n",
       "  <thead>\n",
       "    <tr style=\"text-align: right;\">\n",
       "      <th></th>\n",
       "      <th>ch_id</th>\n",
       "      <th>card</th>\n",
       "      <th>date</th>\n",
       "      <th>amount</th>\n",
       "    </tr>\n",
       "  </thead>\n",
       "  <tbody>\n",
       "    <tr>\n",
       "      <th>133</th>\n",
       "      <td>2</td>\n",
       "      <td>4866761290278198714</td>\n",
       "      <td>2018-06-24</td>\n",
       "      <td>4.96</td>\n",
       "    </tr>\n",
       "    <tr>\n",
       "      <th>134</th>\n",
       "      <td>2</td>\n",
       "      <td>4866761290278198714</td>\n",
       "      <td>2018-10-30</td>\n",
       "      <td>5.87</td>\n",
       "    </tr>\n",
       "    <tr>\n",
       "      <th>135</th>\n",
       "      <td>2</td>\n",
       "      <td>4866761290278198714</td>\n",
       "      <td>2018-05-01</td>\n",
       "      <td>6.55</td>\n",
       "    </tr>\n",
       "    <tr>\n",
       "      <th>136</th>\n",
       "      <td>2</td>\n",
       "      <td>4866761290278198714</td>\n",
       "      <td>2018-09-25</td>\n",
       "      <td>3.92</td>\n",
       "    </tr>\n",
       "    <tr>\n",
       "      <th>137</th>\n",
       "      <td>2</td>\n",
       "      <td>4866761290278198714</td>\n",
       "      <td>2018-03-06</td>\n",
       "      <td>4.10</td>\n",
       "    </tr>\n",
       "  </tbody>\n",
       "</table>\n",
       "</div>"
      ],
      "text/plain": [
       "     ch_id                 card        date  amount\n",
       "133      2  4866761290278198714  2018-06-24    4.96\n",
       "134      2  4866761290278198714  2018-10-30    5.87\n",
       "135      2  4866761290278198714  2018-05-01    6.55\n",
       "136      2  4866761290278198714  2018-09-25    3.92\n",
       "137      2  4866761290278198714  2018-03-06    4.10"
      ]
     },
     "execution_count": 14,
     "metadata": {},
     "output_type": "execute_result"
    }
   ],
   "source": [
    "# Data fetching of transactions by CH2 and CH18 \n",
    "\n",
    "query = \"SELECT * FROM cardholder_transactions\"\n",
    "transactions_by_cardholder_df = pd.read_sql(sql=query, con=engine)\n",
    "transactions_by_cardholder_df['amount']= transactions_by_cardholder_df['amount'].str.replace(\"$\", \"\",regex=True)\n",
    "transactions_by_cardholder_df['amount']= transactions_by_cardholder_df['amount'].str.replace(\",\", \"\",regex=True)\n",
    "transactions_by_cardholder_df['amount'] = transactions_by_cardholder_df['amount'].astype(float)\n",
    "cardholders_2_and_18_transactions= (transactions_by_cardholder_df.loc[transactions_by_cardholder_df.ch_id.isin([2, 18])]\n",
    "                                    .drop(columns=['t_id', 'name'])\n",
    "                                    )\n",
    "cardholders_2_and_18_transactions.head()\n"
   ]
  },
  {
   "cell_type": "code",
   "execution_count": 15,
   "id": "a9c1f2ba",
   "metadata": {},
   "outputs": [
    {
     "data": {},
     "metadata": {},
     "output_type": "display_data"
    },
    {
     "data": {
      "application/vnd.holoviews_exec.v0+json": "",
      "text/html": [
       "<div id='1631'>\n",
       "  <div class=\"bk-root\" id=\"f25f0d12-9e58-4231-9204-567e2a76b348\" data-root-id=\"1631\"></div>\n",
       "</div>\n",
       "<script type=\"application/javascript\">(function(root) {\n",
       "  function embed_document(root) {\n",
       "    var docs_json = {\"b6d1e48f-c14e-4d5f-8e8c-226987c65c17\":{\"defs\":[{\"extends\":null,\"module\":null,\"name\":\"ReactiveHTML1\",\"overrides\":[],\"properties\":[]},{\"extends\":null,\"module\":null,\"name\":\"FlexBox1\",\"overrides\":[],\"properties\":[{\"default\":\"flex-start\",\"kind\":null,\"name\":\"align_content\"},{\"default\":\"flex-start\",\"kind\":null,\"name\":\"align_items\"},{\"default\":\"row\",\"kind\":null,\"name\":\"flex_direction\"},{\"default\":\"wrap\",\"kind\":null,\"name\":\"flex_wrap\"},{\"default\":\"flex-start\",\"kind\":null,\"name\":\"justify_content\"}]},{\"extends\":null,\"module\":null,\"name\":\"GridStack1\",\"overrides\":[],\"properties\":[{\"default\":\"warn\",\"kind\":null,\"name\":\"mode\"},{\"default\":null,\"kind\":null,\"name\":\"ncols\"},{\"default\":null,\"kind\":null,\"name\":\"nrows\"},{\"default\":true,\"kind\":null,\"name\":\"allow_resize\"},{\"default\":true,\"kind\":null,\"name\":\"allow_drag\"},{\"default\":[],\"kind\":null,\"name\":\"state\"}]},{\"extends\":null,\"module\":null,\"name\":\"click1\",\"overrides\":[],\"properties\":[{\"default\":\"\",\"kind\":null,\"name\":\"terminal_output\"},{\"default\":\"\",\"kind\":null,\"name\":\"debug_name\"},{\"default\":0,\"kind\":null,\"name\":\"clears\"}]},{\"extends\":null,\"module\":null,\"name\":\"NotificationAreaBase1\",\"overrides\":[],\"properties\":[{\"default\":\"bottom-right\",\"kind\":null,\"name\":\"position\"},{\"default\":0,\"kind\":null,\"name\":\"_clear\"}]},{\"extends\":null,\"module\":null,\"name\":\"NotificationArea1\",\"overrides\":[],\"properties\":[{\"default\":[],\"kind\":null,\"name\":\"notifications\"},{\"default\":\"bottom-right\",\"kind\":null,\"name\":\"position\"},{\"default\":0,\"kind\":null,\"name\":\"_clear\"},{\"default\":[{\"background\":\"#ffc107\",\"icon\":{\"className\":\"fas fa-exclamation-triangle\",\"color\":\"white\",\"tagName\":\"i\"},\"type\":\"warning\"},{\"background\":\"#007bff\",\"icon\":{\"className\":\"fas fa-info-circle\",\"color\":\"white\",\"tagName\":\"i\"},\"type\":\"info\"}],\"kind\":null,\"name\":\"types\"}]},{\"extends\":null,\"module\":null,\"name\":\"Notification\",\"overrides\":[],\"properties\":[{\"default\":null,\"kind\":null,\"name\":\"background\"},{\"default\":3000,\"kind\":null,\"name\":\"duration\"},{\"default\":null,\"kind\":null,\"name\":\"icon\"},{\"default\":\"\",\"kind\":null,\"name\":\"message\"},{\"default\":null,\"kind\":null,\"name\":\"notification_type\"},{\"default\":false,\"kind\":null,\"name\":\"_destroyed\"}]},{\"extends\":null,\"module\":null,\"name\":\"TemplateActions1\",\"overrides\":[],\"properties\":[{\"default\":0,\"kind\":null,\"name\":\"open_modal\"},{\"default\":0,\"kind\":null,\"name\":\"close_modal\"}]},{\"extends\":null,\"module\":null,\"name\":\"MaterialTemplateActions1\",\"overrides\":[],\"properties\":[{\"default\":0,\"kind\":null,\"name\":\"open_modal\"},{\"default\":0,\"kind\":null,\"name\":\"close_modal\"}]}],\"roots\":{\"references\":[{\"attributes\":{},\"id\":\"1676\",\"type\":\"AllLabels\"},{\"attributes\":{\"base\":60,\"mantissas\":[1,2,5,10,15,20,30],\"max_interval\":1800000.0,\"min_interval\":1000.0,\"num_minor_ticks\":0},\"id\":\"1695\",\"type\":\"AdaptiveTicker\"},{\"attributes\":{\"children\":[{\"id\":\"1635\"}],\"height\":300,\"margin\":[0,0,0,0],\"name\":\"Row01275\",\"sizing_mode\":\"fixed\",\"tags\":[\"embedded\"],\"width\":700},\"id\":\"1631\",\"type\":\"Row\"},{\"attributes\":{\"base\":24,\"mantissas\":[1,2,4,6,8,12],\"max_interval\":43200000.0,\"min_interval\":3600000.0,\"num_minor_ticks\":0},\"id\":\"1696\",\"type\":\"AdaptiveTicker\"},{\"attributes\":{\"line_color\":\"#30a2da\",\"line_width\":2,\"x\":{\"field\":\"date\"},\"y\":{\"field\":\"amount\"}},\"id\":\"1668\",\"type\":\"Line\"},{\"attributes\":{},\"id\":\"1705\",\"type\":\"YearsTicker\"},{\"attributes\":{\"months\":[0,1,2,3,4,5,6,7,8,9,10,11]},\"id\":\"1701\",\"type\":\"MonthsTicker\"},{\"attributes\":{},\"id\":\"1640\",\"type\":\"LinearScale\"},{\"attributes\":{\"end\":1545955200000.0,\"reset_end\":1545955200000.0,\"reset_start\":1515196800000.0,\"start\":1515196800000.0,\"tags\":[[[\"date\",\"date\",null]]]},\"id\":\"1632\",\"type\":\"Range1d\"},{\"attributes\":{\"days\":[1,15]},\"id\":\"1700\",\"type\":\"DaysTicker\"},{\"attributes\":{},\"id\":\"1642\",\"type\":\"LinearScale\"},{\"attributes\":{\"days\":[1,2,3,4,5,6,7,8,9,10,11,12,13,14,15,16,17,18,19,20,21,22,23,24,25,26,27,28,29,30,31]},\"id\":\"1697\",\"type\":\"DaysTicker\"},{\"attributes\":{\"days\":[1,4,7,10,13,16,19,22,25,28]},\"id\":\"1698\",\"type\":\"DaysTicker\"},{\"attributes\":{\"days\":[1,8,15,22]},\"id\":\"1699\",\"type\":\"DaysTicker\"},{\"attributes\":{\"months\":[0,6]},\"id\":\"1704\",\"type\":\"MonthsTicker\"},{\"attributes\":{\"below\":[{\"id\":\"1644\"}],\"center\":[{\"id\":\"1647\"},{\"id\":\"1651\"}],\"height\":300,\"left\":[{\"id\":\"1648\"}],\"margin\":[5,5,5,5],\"min_border_bottom\":10,\"min_border_left\":10,\"min_border_right\":10,\"min_border_top\":10,\"renderers\":[{\"id\":\"1671\"}],\"sizing_mode\":\"fixed\",\"title\":{\"id\":\"1636\"},\"toolbar\":{\"id\":\"1658\"},\"width\":700,\"x_range\":{\"id\":\"1632\"},\"x_scale\":{\"id\":\"1640\"},\"y_range\":{\"id\":\"1633\"},\"y_scale\":{\"id\":\"1642\"}},\"id\":\"1635\",\"subtype\":\"Figure\",\"type\":\"Plot\"},{\"attributes\":{\"months\":[0,2,4,6,8,10]},\"id\":\"1702\",\"type\":\"MonthsTicker\"},{\"attributes\":{\"line_alpha\":0.1,\"line_color\":\"#30a2da\",\"line_width\":2,\"x\":{\"field\":\"date\"},\"y\":{\"field\":\"amount\"}},\"id\":\"1669\",\"type\":\"Line\"},{\"attributes\":{\"callback\":null,\"formatters\":{\"@{date}\":\"datetime\"},\"renderers\":[{\"id\":\"1671\"}],\"tags\":[\"hv_created\"],\"tooltips\":[[\"date\",\"@{date}{%F %T}\"],[\"amount\",\"@{amount}\"]]},\"id\":\"1634\",\"type\":\"HoverTool\"},{\"attributes\":{\"end\":37.011,\"reset_end\":37.011,\"reset_start\":-2.601,\"start\":-2.601,\"tags\":[[[\"amount\",\"amount\",null]]]},\"id\":\"1633\",\"type\":\"Range1d\"},{\"attributes\":{\"months\":[0,4,8]},\"id\":\"1703\",\"type\":\"MonthsTicker\"},{\"attributes\":{},\"id\":\"1666\",\"type\":\"Selection\"},{\"attributes\":{\"data\":{\"amount\":{\"__ndarray__\":\"zczMzMxMKEAK16NwPUoxQFK4HoXr0SVApHA9CtejMUApXI/C9SgnQHE9Ctej8CRASOF6FK7HJkCPwvUoXI/2P3sUrkfh2kBA16NwPQrXG0ApXI/C9SjwP4XrUbgehTJAj8L1KFwPMUBmZmZmZmYQQClcj8L1qDFAKVyPwvUoJEBSuB6F61EOQHsUrkfhei5AcT0K16NwJkAVrkfhepQnQEjhehSuRxtAH4XrUbieMkBI4XoUrkfxPwAAAAAAABpAhetRuB6FJkDsUbgehWskQIXrUbgehSRAH4XrUbieJEBmZmZmZmbmPzMzMzMzMxpAhetRuB4FN0Bcj8L1KFwLQPUoXI/CNTZACtejcD0K8z8pXI/C9Sj8P+xRuB6F6y9AhetRuB5FO0BmZmZmZuYvQPYoXI/C9TBAzczMzMxMJUCF61G4HoUUQEjhehSuRylAuB6F61G4+j8AAAAAAEAxQNejcD0K1xNAmpmZmZlZNEAfhetRuB4TQHE9CtejcAtAPQrXo3D9MECkcD0K16MdQArXo3A9CglAKVyPwvWoJEApXI/C9SgxQFyPwvUoXBBAzczMzMyMMECPwvUoXI8TQBSuR+F6lCRAw/UoXI+CM0AfhetRuB4kQHE9CtejcChAmpmZmZmZEEApXI/C9egzQLgehetRuDFAZmZmZmZmCEBI4XoUrkf5PwrXo3A9CidAXI/C9ShcD0AzMzMzM7MmQLgehetRuPI/CtejcD0KJEBcj8L1KFwHQNejcD0KVyRAH4XrUbgeKkDXo3A9CtcwQB+F61G4HgdAexSuR+F6QEBSuB6F69EmQAAAAAAAAAJAZmZmZmZmMEApXI/C9SgkQClcj8L1KBFASOF6FK7HKEDsUbgehWs9QMP1KFyPwiZAZmZmZmZmJECPwvUoXA8mQA==\",\"dtype\":\"float64\",\"order\":\"little\",\"shape\":[86]},\"date\":{\"__ndarray__\":\"AADARYwMdkIAAICr3gx2QgAAwNzVDXZCAABAP8QPdkIAAIBwuxB2QgAAgAcFEnZCAADAOPwSdkIAAMBmjxV2QgAAgGMrF3ZCAADAWf8bdkIAAACL9hx2QgAAwPBIHXZCAABAUzcfdkIAAAC5iR92QgAAAFDTIHZCAADAtSUhdkIAAIAbeCF2QgAAwExvInZCAAAAfmYjdkIAAIBJCyR2QgAAABWwJHZCAABA3fAmdkIAAIAO6Cd2QgAAAHHWKXZCAADA1igqdkIAAIDTxCt2QgAAgGoOLXZCAAAANrMtdkIAAIAv6zB2QgAAAPuPMXZCAADA9yszdkIAAMCOdTR2QgAAQFoaNXZCAADAU1I4dkIAAEAf9zh2QgAAQLZAOnZCAABATYo7dkIAAACz3Dt2QgAAQOTTPHZCAAAASiY9dkIAAAB4uT92QgAAwN0LQHZCAAAADwNBdkIAAMB0VUF2QgAAgHHxQnZCAADAOTJFdkIAAEAF10V2QgAAwNB7RnZCAACANs5GdkIAAECcIEd2QgAAAAJzR3ZCAACAkvRLdkIAAAD14k12QgAAACN2UHZCAADAiMhQdkIAAMC2W1N2QgAAQIIAVHZCAACAs/dUdkIAAIBKQVZ2QgAAwHs4V3ZCAAAAcgxcdkIAAMBuqF12QgAAgNT6XXZCAACAa0RfdkIAAEDRll92QgAAADfpX3ZCAABAaOBgdkIAAED/KWJ2QgAAgDAhY3ZCAADAYRhkdkIAAEAtvWR2QgAAQMQGZnZCAAAAwaJndkIAAADvNWp2QgAAAIZ/a3ZCAACAUSRsdkIAAEBOwG12QgAAgBYBcHZCAACArUpxdkIAAMCjHnZ2QgAAQG/DdnZCAADA0bF4dkIAAIDOTXp2QgAAwP9Ee3ZCAABAYjN9dkIAAMDEIX92Qg==\",\"dtype\":\"float64\",\"order\":\"little\",\"shape\":[86]}},\"selected\":{\"id\":\"1666\"},\"selection_policy\":{\"id\":\"1691\"}},\"id\":\"1665\",\"type\":\"ColumnDataSource\"},{\"attributes\":{},\"id\":\"1675\",\"type\":\"DatetimeTickFormatter\"},{\"attributes\":{},\"id\":\"1653\",\"type\":\"PanTool\"},{\"attributes\":{\"line_alpha\":0.2,\"line_color\":\"#30a2da\",\"line_width\":2,\"x\":{\"field\":\"date\"},\"y\":{\"field\":\"amount\"}},\"id\":\"1670\",\"type\":\"Line\"},{\"attributes\":{\"coordinates\":null,\"group\":null,\"text\":\"Sum of Transaction Amounts for Card Holders 2\",\"text_color\":\"black\",\"text_font_size\":\"12pt\"},\"id\":\"1636\",\"type\":\"Title\"},{\"attributes\":{\"axis\":{\"id\":\"1644\"},\"coordinates\":null,\"grid_line_color\":null,\"group\":null,\"ticker\":null},\"id\":\"1647\",\"type\":\"Grid\"},{\"attributes\":{\"axis_label\":\"date\",\"coordinates\":null,\"formatter\":{\"id\":\"1675\"},\"group\":null,\"major_label_orientation\":0.7853981633974483,\"major_label_policy\":{\"id\":\"1676\"},\"ticker\":{\"id\":\"1645\"}},\"id\":\"1644\",\"type\":\"DatetimeAxis\"},{\"attributes\":{\"source\":{\"id\":\"1665\"}},\"id\":\"1672\",\"type\":\"CDSView\"},{\"attributes\":{\"axis_label\":\"amount\",\"coordinates\":null,\"formatter\":{\"id\":\"1678\"},\"group\":null,\"major_label_policy\":{\"id\":\"1679\"},\"ticker\":{\"id\":\"1649\"}},\"id\":\"1648\",\"type\":\"LinearAxis\"},{\"attributes\":{\"coordinates\":null,\"data_source\":{\"id\":\"1665\"},\"glyph\":{\"id\":\"1668\"},\"group\":null,\"hover_glyph\":null,\"muted_glyph\":{\"id\":\"1670\"},\"nonselection_glyph\":{\"id\":\"1669\"},\"selection_glyph\":{\"id\":\"1673\"},\"view\":{\"id\":\"1672\"}},\"id\":\"1671\",\"type\":\"GlyphRenderer\"},{\"attributes\":{},\"id\":\"1691\",\"type\":\"UnionRenderers\"},{\"attributes\":{\"num_minor_ticks\":5,\"tickers\":[{\"id\":\"1694\"},{\"id\":\"1695\"},{\"id\":\"1696\"},{\"id\":\"1697\"},{\"id\":\"1698\"},{\"id\":\"1699\"},{\"id\":\"1700\"},{\"id\":\"1701\"},{\"id\":\"1702\"},{\"id\":\"1703\"},{\"id\":\"1704\"},{\"id\":\"1705\"}]},\"id\":\"1645\",\"type\":\"DatetimeTicker\"},{\"attributes\":{\"axis\":{\"id\":\"1648\"},\"coordinates\":null,\"dimension\":1,\"grid_line_color\":null,\"group\":null,\"ticker\":null},\"id\":\"1651\",\"type\":\"Grid\"},{\"attributes\":{},\"id\":\"1649\",\"type\":\"BasicTicker\"},{\"attributes\":{\"line_color\":\"#30a2da\",\"line_width\":2,\"x\":{\"field\":\"date\"},\"y\":{\"field\":\"amount\"}},\"id\":\"1673\",\"type\":\"Line\"},{\"attributes\":{},\"id\":\"1654\",\"type\":\"WheelZoomTool\"},{\"attributes\":{},\"id\":\"1679\",\"type\":\"AllLabels\"},{\"attributes\":{\"bottom_units\":\"screen\",\"coordinates\":null,\"fill_alpha\":0.5,\"fill_color\":\"lightgrey\",\"group\":null,\"left_units\":\"screen\",\"level\":\"overlay\",\"line_alpha\":1.0,\"line_color\":\"black\",\"line_dash\":[4,4],\"line_width\":2,\"right_units\":\"screen\",\"syncable\":false,\"top_units\":\"screen\"},\"id\":\"1657\",\"type\":\"BoxAnnotation\"},{\"attributes\":{},\"id\":\"1652\",\"type\":\"SaveTool\"},{\"attributes\":{\"overlay\":{\"id\":\"1657\"}},\"id\":\"1655\",\"type\":\"BoxZoomTool\"},{\"attributes\":{},\"id\":\"1656\",\"type\":\"ResetTool\"},{\"attributes\":{},\"id\":\"1678\",\"type\":\"BasicTickFormatter\"},{\"attributes\":{\"mantissas\":[1,2,5],\"max_interval\":500.0,\"num_minor_ticks\":0},\"id\":\"1694\",\"type\":\"AdaptiveTicker\"},{\"attributes\":{\"active_drag\":{\"id\":\"1653\"},\"active_scroll\":{\"id\":\"1654\"},\"tools\":[{\"id\":\"1634\"},{\"id\":\"1652\"},{\"id\":\"1653\"},{\"id\":\"1654\"},{\"id\":\"1655\"},{\"id\":\"1656\"}]},\"id\":\"1658\",\"type\":\"Toolbar\"}],\"root_ids\":[\"1631\"]},\"title\":\"Bokeh Application\",\"version\":\"2.4.3\"}};\n",
       "    var render_items = [{\"docid\":\"b6d1e48f-c14e-4d5f-8e8c-226987c65c17\",\"root_ids\":[\"1631\"],\"roots\":{\"1631\":\"f25f0d12-9e58-4231-9204-567e2a76b348\"}}];\n",
       "    root.Bokeh.embed.embed_items_notebook(docs_json, render_items);\n",
       "    for (const render_item of render_items) {\n",
       "      for (const root_id of render_item.root_ids) {\n",
       "\tconst id_el = document.getElementById(root_id)\n",
       "\tif (id_el.children.length && (id_el.children[0].className === 'bk-root')) {\n",
       "\t  const root_el = id_el.children[0]\n",
       "\t  root_el.id = root_el.id + '-rendered'\n",
       "\t}\n",
       "      }\n",
       "    }\n",
       "  }\n",
       "  if (root.Bokeh !== undefined && root.Bokeh.Panel !== undefined) {\n",
       "    embed_document(root);\n",
       "  } else {\n",
       "    var attempts = 0;\n",
       "    var timer = setInterval(function(root) {\n",
       "      if (root.Bokeh !== undefined && root.Bokeh.Panel !== undefined) {\n",
       "        clearInterval(timer);\n",
       "        embed_document(root);\n",
       "      } else if (document.readyState == \"complete\") {\n",
       "        attempts++;\n",
       "        if (attempts > 200) {\n",
       "          clearInterval(timer);\n",
       "          console.log(\"Bokeh: ERROR: Unable to run BokehJS code because BokehJS library is missing\");\n",
       "        }\n",
       "      }\n",
       "    }, 25, root)\n",
       "  }\n",
       "})(window);</script>"
      ],
      "text/plain": [
       ":Curve   [date]   (amount)"
      ]
     },
     "execution_count": 15,
     "metadata": {
      "application/vnd.holoviews_exec.v0+json": {
       "id": "1631"
      }
     },
     "output_type": "execute_result"
    }
   ],
   "source": [
    "# Analysis of transactions by CH2 using hvplot - Output in 'Outputs' dir\n",
    "\n",
    "cardholder_2_transactions = (\n",
    "    cardholders_2_and_18_transactions[cardholders_2_and_18_transactions['ch_id'] == 2]\n",
    "    .drop(columns='ch_id')\n",
    ")\n",
    "\n",
    "# Date vs. Amount on sum\n",
    "ch2_transactions_by_date = cardholder_2_transactions[['date', 'amount']]\n",
    "ch2_total_transactions_by_date = ch2_transactions_by_date.groupby('date').sum()\n",
    "\n",
    "# Plot for CH2\n",
    "ch2_total_transactions_by_date.hvplot(title=\"Sum of Transaction Amounts for Card Holders 2\", rot=45)"
   ]
  },
  {
   "cell_type": "code",
   "execution_count": 16,
   "id": "0a9e2701",
   "metadata": {},
   "outputs": [
    {
     "data": {},
     "metadata": {},
     "output_type": "display_data"
    },
    {
     "data": {
      "application/vnd.holoviews_exec.v0+json": "",
      "text/html": [
       "<div id='1817'>\n",
       "  <div class=\"bk-root\" id=\"d5349ac6-692f-48f3-9549-3c1b05604471\" data-root-id=\"1817\"></div>\n",
       "</div>\n",
       "<script type=\"application/javascript\">(function(root) {\n",
       "  function embed_document(root) {\n",
       "    var docs_json = {\"df2c9ff4-bc3b-43c5-b588-69dab7d2e347\":{\"defs\":[{\"extends\":null,\"module\":null,\"name\":\"ReactiveHTML1\",\"overrides\":[],\"properties\":[]},{\"extends\":null,\"module\":null,\"name\":\"FlexBox1\",\"overrides\":[],\"properties\":[{\"default\":\"flex-start\",\"kind\":null,\"name\":\"align_content\"},{\"default\":\"flex-start\",\"kind\":null,\"name\":\"align_items\"},{\"default\":\"row\",\"kind\":null,\"name\":\"flex_direction\"},{\"default\":\"wrap\",\"kind\":null,\"name\":\"flex_wrap\"},{\"default\":\"flex-start\",\"kind\":null,\"name\":\"justify_content\"}]},{\"extends\":null,\"module\":null,\"name\":\"GridStack1\",\"overrides\":[],\"properties\":[{\"default\":\"warn\",\"kind\":null,\"name\":\"mode\"},{\"default\":null,\"kind\":null,\"name\":\"ncols\"},{\"default\":null,\"kind\":null,\"name\":\"nrows\"},{\"default\":true,\"kind\":null,\"name\":\"allow_resize\"},{\"default\":true,\"kind\":null,\"name\":\"allow_drag\"},{\"default\":[],\"kind\":null,\"name\":\"state\"}]},{\"extends\":null,\"module\":null,\"name\":\"click1\",\"overrides\":[],\"properties\":[{\"default\":\"\",\"kind\":null,\"name\":\"terminal_output\"},{\"default\":\"\",\"kind\":null,\"name\":\"debug_name\"},{\"default\":0,\"kind\":null,\"name\":\"clears\"}]},{\"extends\":null,\"module\":null,\"name\":\"NotificationAreaBase1\",\"overrides\":[],\"properties\":[{\"default\":\"bottom-right\",\"kind\":null,\"name\":\"position\"},{\"default\":0,\"kind\":null,\"name\":\"_clear\"}]},{\"extends\":null,\"module\":null,\"name\":\"NotificationArea1\",\"overrides\":[],\"properties\":[{\"default\":[],\"kind\":null,\"name\":\"notifications\"},{\"default\":\"bottom-right\",\"kind\":null,\"name\":\"position\"},{\"default\":0,\"kind\":null,\"name\":\"_clear\"},{\"default\":[{\"background\":\"#ffc107\",\"icon\":{\"className\":\"fas fa-exclamation-triangle\",\"color\":\"white\",\"tagName\":\"i\"},\"type\":\"warning\"},{\"background\":\"#007bff\",\"icon\":{\"className\":\"fas fa-info-circle\",\"color\":\"white\",\"tagName\":\"i\"},\"type\":\"info\"}],\"kind\":null,\"name\":\"types\"}]},{\"extends\":null,\"module\":null,\"name\":\"Notification\",\"overrides\":[],\"properties\":[{\"default\":null,\"kind\":null,\"name\":\"background\"},{\"default\":3000,\"kind\":null,\"name\":\"duration\"},{\"default\":null,\"kind\":null,\"name\":\"icon\"},{\"default\":\"\",\"kind\":null,\"name\":\"message\"},{\"default\":null,\"kind\":null,\"name\":\"notification_type\"},{\"default\":false,\"kind\":null,\"name\":\"_destroyed\"}]},{\"extends\":null,\"module\":null,\"name\":\"TemplateActions1\",\"overrides\":[],\"properties\":[{\"default\":0,\"kind\":null,\"name\":\"open_modal\"},{\"default\":0,\"kind\":null,\"name\":\"close_modal\"}]},{\"extends\":null,\"module\":null,\"name\":\"MaterialTemplateActions1\",\"overrides\":[],\"properties\":[{\"default\":0,\"kind\":null,\"name\":\"open_modal\"},{\"default\":0,\"kind\":null,\"name\":\"close_modal\"}]}],\"roots\":{\"references\":[{\"attributes\":{},\"id\":\"1839\",\"type\":\"PanTool\"},{\"attributes\":{\"coordinates\":null,\"data_source\":{\"id\":\"1851\"},\"glyph\":{\"id\":\"1854\"},\"group\":null,\"hover_glyph\":null,\"muted_glyph\":{\"id\":\"1856\"},\"nonselection_glyph\":{\"id\":\"1855\"},\"selection_glyph\":{\"id\":\"1859\"},\"view\":{\"id\":\"1858\"}},\"id\":\"1857\",\"type\":\"GlyphRenderer\"},{\"attributes\":{\"axis\":{\"id\":\"1834\"},\"coordinates\":null,\"dimension\":1,\"grid_line_color\":null,\"group\":null,\"ticker\":null},\"id\":\"1837\",\"type\":\"Grid\"},{\"attributes\":{},\"id\":\"1840\",\"type\":\"WheelZoomTool\"},{\"attributes\":{},\"id\":\"1838\",\"type\":\"SaveTool\"},{\"attributes\":{\"overlay\":{\"id\":\"1843\"}},\"id\":\"1841\",\"type\":\"BoxZoomTool\"},{\"attributes\":{},\"id\":\"1842\",\"type\":\"ResetTool\"},{\"attributes\":{\"end\":2036.143,\"reset_end\":2036.143,\"reset_start\":-184.37300000000002,\"start\":-184.37300000000002,\"tags\":[[[\"amount\",\"amount\",null]]]},\"id\":\"1819\",\"type\":\"Range1d\"},{\"attributes\":{\"bottom_units\":\"screen\",\"coordinates\":null,\"fill_alpha\":0.5,\"fill_color\":\"lightgrey\",\"group\":null,\"left_units\":\"screen\",\"level\":\"overlay\",\"line_alpha\":1.0,\"line_color\":\"black\",\"line_dash\":[4,4],\"line_width\":2,\"right_units\":\"screen\",\"syncable\":false,\"top_units\":\"screen\"},\"id\":\"1843\",\"type\":\"BoxAnnotation\"},{\"attributes\":{\"line_alpha\":0.1,\"line_color\":\"#30a2da\",\"line_width\":2,\"x\":{\"field\":\"date\"},\"y\":{\"field\":\"amount\"}},\"id\":\"1855\",\"type\":\"Line\"},{\"attributes\":{\"line_color\":\"#30a2da\",\"line_width\":2,\"x\":{\"field\":\"date\"},\"y\":{\"field\":\"amount\"}},\"id\":\"1859\",\"type\":\"Line\"},{\"attributes\":{\"mantissas\":[1,2,5],\"max_interval\":500.0,\"num_minor_ticks\":0},\"id\":\"1880\",\"type\":\"AdaptiveTicker\"},{\"attributes\":{\"end\":1546041600000.0,\"reset_end\":1546041600000.0,\"reset_start\":1514764800000.0,\"start\":1514764800000.0,\"tags\":[[[\"date\",\"date\",null]]]},\"id\":\"1818\",\"type\":\"Range1d\"},{\"attributes\":{\"base\":60,\"mantissas\":[1,2,5,10,15,20,30],\"max_interval\":1800000.0,\"min_interval\":1000.0,\"num_minor_ticks\":0},\"id\":\"1881\",\"type\":\"AdaptiveTicker\"},{\"attributes\":{\"base\":24,\"mantissas\":[1,2,4,6,8,12],\"max_interval\":43200000.0,\"min_interval\":3600000.0,\"num_minor_ticks\":0},\"id\":\"1882\",\"type\":\"AdaptiveTicker\"},{\"attributes\":{},\"id\":\"1891\",\"type\":\"YearsTicker\"},{\"attributes\":{\"line_alpha\":0.2,\"line_color\":\"#30a2da\",\"line_width\":2,\"x\":{\"field\":\"date\"},\"y\":{\"field\":\"amount\"}},\"id\":\"1856\",\"type\":\"Line\"},{\"attributes\":{\"callback\":null,\"formatters\":{\"@{date}\":\"datetime\"},\"renderers\":[{\"id\":\"1857\"}],\"tags\":[\"hv_created\"],\"tooltips\":[[\"date\",\"@{date}{%F %T}\"],[\"amount\",\"@{amount}\"]]},\"id\":\"1820\",\"type\":\"HoverTool\"},{\"attributes\":{\"months\":[0,1,2,3,4,5,6,7,8,9,10,11]},\"id\":\"1887\",\"type\":\"MonthsTicker\"},{\"attributes\":{\"days\":[1,15]},\"id\":\"1886\",\"type\":\"DaysTicker\"},{\"attributes\":{\"data\":{\"amount\":{\"__ndarray__\":\"mpmZmZmZB0DD9Shcj8L1PwAAAAAA4GVAzczMzMyIdUBmZmZmZmYEQEjhehSuxyxAhetRuB6FC0BI4XoUrsckQFyPwvUoXBVAhetRuB6FJUB7FK5H4XoXQGZmZmZmpjJA16NwPQoXNEDNzMzMzEwyQGZmZmZm7JxAexSuR+F6AkBxPQrXo/AxQKRwPQrXoyVAXI/C9Si8QEDNzMzMzEwoQClcj8L1KBtA7FG4HoXrJEBxPQrXo3DtP6RwPQrXIzJAmpmZmZmZM0A9CtejcD0EQKRwPQrXowhA9ihcj8L1+D8AAAAAANSQQDMzMzMzMzVAH4XrUbgeNkDC9Shcj4IyQNejcD0K1/8/j8L1KFyPEkDD9Shcj8IJQFK4HoXrkT1ASOF6FK5HLUBSuB6F61H8P1yPwvUo3CxAFK5H4XqUJEAAAAAAAFicQOF6FK5H4QxAuB6F61G4JED2KFyPwjVAQHE9CtejcOU/AAAAAABANkBcj8L1KFz/P9ejcD0KF0BAMzMzMzMzK0CF61G4HoUTQAAAAAAAQF5AkML1KFxPO0ApXI/C9SgmQAAAAAAAQF1AAAAAAAAABkDXo3A9CtfzPylcj8L1qCVAw/UoXI/CD0AAAAAAAHCOQEjhehSuhzFAcT0K16NwB0A9CtejcD36P9ejcD0K1yVAPQrXo3A9JEBSuB6F65ExQI/C9ShcDyNAZmZmZmZmEkC4HoXrUfgxQArXo3A9ijJASOF6FK5HNUBmZmZmZuY1QAAAAAAAoHxA7FG4HoXrHECPwvUoXI8kQAAAAAAAYJJAMzMzMzOzJkCuR+F6FK4SQAAAAAAAwDRA7FG4HoXrFUAUrkfhetQyQEjhehSuRw1AuB6F61E4KUDD9Shcj8L5P2ZmZmZm5iRAPgrXo3B9NUCamZmZmZkbQD0K16NwPSRASOF6FK7HJEDD9Shcj8IvQMP1KFyPwvU/cT0K16NwFkDD9Shcj0IlQIXrUbgeRTZAhetRuB6FMkBI4XoUrkcnQM3MzMzMzCRAUrgehetRCEBxPQrXo3AZQAAAAAAAAPw/AAAAAACkm0AUrkfhehTmP1K4HoXrUfw/uB6F61E4MUDD9Shcj8IJQNejcD0K1/s/AAAAAAAIkkA9CtejcD0lQArXo3A9ChRAFK5H4XoU/j9xPQrXo3ARQDMzMzMzM/s/16NwPQpXMEAAAAAAAIAoQA==\",\"dtype\":\"float64\",\"order\":\"little\",\"shape\":[113]},\"date\":{\"__ndarray__\":\"AAAASfAKdkIAAADgOQx2QgAAgKveDHZCAABAETENdkIAAEA/xA92QgAAAKUWEHZCAADACmkQdkIAAIBwuxB2QgAAADxgEXZCAADAOPwSdkIAAICeThN2QgAAAGrzE3ZCAAAAxhkZdkIAAABdYxp2QgAAwMK1GnZCAABAjlobdkIAAMCHkh52QgAAALmJH3ZCAADAHtwfdkIAAEDqgCB2QgAAAFDTIHZCAABAgcohdkIAAMDjuCN2QgAAgEkLJHZCAABARqcldkIAAEDd8CZ2QgAAAENDJ3ZCAADAqJUndkIAAADajCh2QgAAQNBgLXZCAABAlT0xdkIAAID0xzR2QgAAwCW/NXZCAAAAV7Y2dkIAAIAiWzd2QgAAwOqbOXZCAACAUO45dkIAAEC2QDp2QgAAwIHlOnZCAAAAs9w7dkIAAMAYLzx2QgAAgH6BPHZCAABA5NM8dkIAAADhbz52QgAAQBJnP3ZCAADA3QtAdkIAAEBA+kF2QgAAAKZMQnZCAADAC59CdkIAAIBx8UJ2QgAAANTfRHZCAADAOTJFdkIAAEAF10V2QgAAgDbORnZCAABAnCBHdkIAAAACc0d2QgAAAJm8SHZCAADAlVhKdkIAAID7qkp2QgAAwCyiS3ZCAACAKT5NdkIAAMBaNU52QgAAQCbaTnZCAAAAjCxPdkIAAEC9I1B2QgAAgO4aUXZCAAAAur9RdkIAAEDrtlJ2QgAAwLZbU3ZCAAAA6FJUdkIAAIB41Fh2QgAAAER5WXZCAADAqctZdkIAAICmZ1t2QgAAAHIMXHZCAADA115cdkIAAIA9sVx2QgAAgNT6XXZCAAAAN+lfdkIAAMCcO2B2QgAAQGjgYHZCAADAM4VhdkIAAICZ12F2QgAAAGV8YnZCAAAAKllmdkIAAEBbUGd2QgAAAMGiZ3ZCAADAvT5pdkIAAIAjkWl2QgAAQInjaXZCAADA69FrdkIAAEC3dmx2QgAAAB3JbHZCAACA6G1tdkIAAEBOwG12QgAAgH+3bnZCAADAsK5vdkIAAIAWAXB2QgAAQHxTcHZCAAAAee9xdkIAAMB1i3N2QgAAwAzVdHZCAACAcid1dkIAAEDYeXV2QgAAwDpod3ZCAACAzk16dkIAAMD/RHt2QgAAgGWXe3ZCAADAlo58dkIAAADIhX12QgAAAF/PfnZCAADAxCF/dkIAAIAqdH92Qg==\",\"dtype\":\"float64\",\"order\":\"little\",\"shape\":[113]}},\"selected\":{\"id\":\"1852\"},\"selection_policy\":{\"id\":\"1877\"}},\"id\":\"1851\",\"type\":\"ColumnDataSource\"},{\"attributes\":{\"days\":[1,2,3,4,5,6,7,8,9,10,11,12,13,14,15,16,17,18,19,20,21,22,23,24,25,26,27,28,29,30,31]},\"id\":\"1883\",\"type\":\"DaysTicker\"},{\"attributes\":{},\"id\":\"1852\",\"type\":\"Selection\"},{\"attributes\":{\"days\":[1,4,7,10,13,16,19,22,25,28]},\"id\":\"1884\",\"type\":\"DaysTicker\"},{\"attributes\":{\"children\":[{\"id\":\"1821\"}],\"height\":300,\"margin\":[0,0,0,0],\"name\":\"Row01378\",\"sizing_mode\":\"fixed\",\"tags\":[\"embedded\"],\"width\":700},\"id\":\"1817\",\"type\":\"Row\"},{\"attributes\":{\"days\":[1,8,15,22]},\"id\":\"1885\",\"type\":\"DaysTicker\"},{\"attributes\":{\"months\":[0,6]},\"id\":\"1890\",\"type\":\"MonthsTicker\"},{\"attributes\":{},\"id\":\"1826\",\"type\":\"LinearScale\"},{\"attributes\":{\"months\":[0,2,4,6,8,10]},\"id\":\"1888\",\"type\":\"MonthsTicker\"},{\"attributes\":{\"active_drag\":{\"id\":\"1839\"},\"active_scroll\":{\"id\":\"1840\"},\"tools\":[{\"id\":\"1820\"},{\"id\":\"1838\"},{\"id\":\"1839\"},{\"id\":\"1840\"},{\"id\":\"1841\"},{\"id\":\"1842\"}]},\"id\":\"1844\",\"type\":\"Toolbar\"},{\"attributes\":{\"below\":[{\"id\":\"1830\"}],\"center\":[{\"id\":\"1833\"},{\"id\":\"1837\"}],\"height\":300,\"left\":[{\"id\":\"1834\"}],\"margin\":[5,5,5,5],\"min_border_bottom\":10,\"min_border_left\":10,\"min_border_right\":10,\"min_border_top\":10,\"renderers\":[{\"id\":\"1857\"}],\"sizing_mode\":\"fixed\",\"title\":{\"id\":\"1822\"},\"toolbar\":{\"id\":\"1844\"},\"width\":700,\"x_range\":{\"id\":\"1818\"},\"x_scale\":{\"id\":\"1826\"},\"y_range\":{\"id\":\"1819\"},\"y_scale\":{\"id\":\"1828\"}},\"id\":\"1821\",\"subtype\":\"Figure\",\"type\":\"Plot\"},{\"attributes\":{\"months\":[0,4,8]},\"id\":\"1889\",\"type\":\"MonthsTicker\"},{\"attributes\":{},\"id\":\"1828\",\"type\":\"LinearScale\"},{\"attributes\":{},\"id\":\"1862\",\"type\":\"AllLabels\"},{\"attributes\":{},\"id\":\"1861\",\"type\":\"DatetimeTickFormatter\"},{\"attributes\":{\"line_color\":\"#30a2da\",\"line_width\":2,\"x\":{\"field\":\"date\"},\"y\":{\"field\":\"amount\"}},\"id\":\"1854\",\"type\":\"Line\"},{\"attributes\":{},\"id\":\"1877\",\"type\":\"UnionRenderers\"},{\"attributes\":{},\"id\":\"1864\",\"type\":\"BasicTickFormatter\"},{\"attributes\":{},\"id\":\"1865\",\"type\":\"AllLabels\"},{\"attributes\":{\"coordinates\":null,\"group\":null,\"text\":\"Sum of Transaction Amounts for Card Holders 18\",\"text_color\":\"black\",\"text_font_size\":\"12pt\"},\"id\":\"1822\",\"type\":\"Title\"},{\"attributes\":{\"axis\":{\"id\":\"1830\"},\"coordinates\":null,\"grid_line_color\":null,\"group\":null,\"ticker\":null},\"id\":\"1833\",\"type\":\"Grid\"},{\"attributes\":{\"axis_label\":\"date\",\"coordinates\":null,\"formatter\":{\"id\":\"1861\"},\"group\":null,\"major_label_orientation\":0.7853981633974483,\"major_label_policy\":{\"id\":\"1862\"},\"ticker\":{\"id\":\"1831\"}},\"id\":\"1830\",\"type\":\"DatetimeAxis\"},{\"attributes\":{\"source\":{\"id\":\"1851\"}},\"id\":\"1858\",\"type\":\"CDSView\"},{\"attributes\":{},\"id\":\"1835\",\"type\":\"BasicTicker\"},{\"attributes\":{\"num_minor_ticks\":5,\"tickers\":[{\"id\":\"1880\"},{\"id\":\"1881\"},{\"id\":\"1882\"},{\"id\":\"1883\"},{\"id\":\"1884\"},{\"id\":\"1885\"},{\"id\":\"1886\"},{\"id\":\"1887\"},{\"id\":\"1888\"},{\"id\":\"1889\"},{\"id\":\"1890\"},{\"id\":\"1891\"}]},\"id\":\"1831\",\"type\":\"DatetimeTicker\"},{\"attributes\":{\"axis_label\":\"amount\",\"coordinates\":null,\"formatter\":{\"id\":\"1864\"},\"group\":null,\"major_label_policy\":{\"id\":\"1865\"},\"ticker\":{\"id\":\"1835\"}},\"id\":\"1834\",\"type\":\"LinearAxis\"}],\"root_ids\":[\"1817\"]},\"title\":\"Bokeh Application\",\"version\":\"2.4.3\"}};\n",
       "    var render_items = [{\"docid\":\"df2c9ff4-bc3b-43c5-b588-69dab7d2e347\",\"root_ids\":[\"1817\"],\"roots\":{\"1817\":\"d5349ac6-692f-48f3-9549-3c1b05604471\"}}];\n",
       "    root.Bokeh.embed.embed_items_notebook(docs_json, render_items);\n",
       "    for (const render_item of render_items) {\n",
       "      for (const root_id of render_item.root_ids) {\n",
       "\tconst id_el = document.getElementById(root_id)\n",
       "\tif (id_el.children.length && (id_el.children[0].className === 'bk-root')) {\n",
       "\t  const root_el = id_el.children[0]\n",
       "\t  root_el.id = root_el.id + '-rendered'\n",
       "\t}\n",
       "      }\n",
       "    }\n",
       "  }\n",
       "  if (root.Bokeh !== undefined && root.Bokeh.Panel !== undefined) {\n",
       "    embed_document(root);\n",
       "  } else {\n",
       "    var attempts = 0;\n",
       "    var timer = setInterval(function(root) {\n",
       "      if (root.Bokeh !== undefined && root.Bokeh.Panel !== undefined) {\n",
       "        clearInterval(timer);\n",
       "        embed_document(root);\n",
       "      } else if (document.readyState == \"complete\") {\n",
       "        attempts++;\n",
       "        if (attempts > 200) {\n",
       "          clearInterval(timer);\n",
       "          console.log(\"Bokeh: ERROR: Unable to run BokehJS code because BokehJS library is missing\");\n",
       "        }\n",
       "      }\n",
       "    }, 25, root)\n",
       "  }\n",
       "})(window);</script>"
      ],
      "text/plain": [
       ":Curve   [date]   (amount)"
      ]
     },
     "execution_count": 16,
     "metadata": {
      "application/vnd.holoviews_exec.v0+json": {
       "id": "1817"
      }
     },
     "output_type": "execute_result"
    }
   ],
   "source": [
    "# Analysis of transactions by CH18 using hvplot - Output in 'Outputs' dir\n",
    "\n",
    "cardholder_18_transactions = (\n",
    "    cardholders_2_and_18_transactions[cardholders_2_and_18_transactions['ch_id'] == 18]\n",
    "    .drop(columns='ch_id')\n",
    ")\n",
    "\n",
    "# Date vs. Amount on sum\n",
    "ch18_transactions_by_date = cardholder_18_transactions[['date', 'amount']]\n",
    "ch18_total_transactions_by_date = ch18_transactions_by_date.groupby('date').sum()\n",
    "\n",
    "# Plot for CH18\n",
    "ch18_total_transactions_by_date.hvplot(title=\"Sum of Transaction Amounts for Card Holders 18\", rot=45)\n"
   ]
  },
  {
   "cell_type": "code",
   "execution_count": 17,
   "id": "9575fa4e",
   "metadata": {},
   "outputs": [
    {
     "data": {},
     "metadata": {},
     "output_type": "display_data"
    },
    {
     "data": {
      "application/vnd.holoviews_exec.v0+json": "",
      "text/html": [
       "<div id='2003'>\n",
       "  <div class=\"bk-root\" id=\"3b513452-6e41-4dec-8d2e-6855e51a28de\" data-root-id=\"2003\"></div>\n",
       "</div>\n",
       "<script type=\"application/javascript\">(function(root) {\n",
       "  function embed_document(root) {\n",
       "    var docs_json = {\"933273ca-bb3b-4df2-af03-3451a5ce0451\":{\"defs\":[{\"extends\":null,\"module\":null,\"name\":\"ReactiveHTML1\",\"overrides\":[],\"properties\":[]},{\"extends\":null,\"module\":null,\"name\":\"FlexBox1\",\"overrides\":[],\"properties\":[{\"default\":\"flex-start\",\"kind\":null,\"name\":\"align_content\"},{\"default\":\"flex-start\",\"kind\":null,\"name\":\"align_items\"},{\"default\":\"row\",\"kind\":null,\"name\":\"flex_direction\"},{\"default\":\"wrap\",\"kind\":null,\"name\":\"flex_wrap\"},{\"default\":\"flex-start\",\"kind\":null,\"name\":\"justify_content\"}]},{\"extends\":null,\"module\":null,\"name\":\"GridStack1\",\"overrides\":[],\"properties\":[{\"default\":\"warn\",\"kind\":null,\"name\":\"mode\"},{\"default\":null,\"kind\":null,\"name\":\"ncols\"},{\"default\":null,\"kind\":null,\"name\":\"nrows\"},{\"default\":true,\"kind\":null,\"name\":\"allow_resize\"},{\"default\":true,\"kind\":null,\"name\":\"allow_drag\"},{\"default\":[],\"kind\":null,\"name\":\"state\"}]},{\"extends\":null,\"module\":null,\"name\":\"click1\",\"overrides\":[],\"properties\":[{\"default\":\"\",\"kind\":null,\"name\":\"terminal_output\"},{\"default\":\"\",\"kind\":null,\"name\":\"debug_name\"},{\"default\":0,\"kind\":null,\"name\":\"clears\"}]},{\"extends\":null,\"module\":null,\"name\":\"NotificationAreaBase1\",\"overrides\":[],\"properties\":[{\"default\":\"bottom-right\",\"kind\":null,\"name\":\"position\"},{\"default\":0,\"kind\":null,\"name\":\"_clear\"}]},{\"extends\":null,\"module\":null,\"name\":\"NotificationArea1\",\"overrides\":[],\"properties\":[{\"default\":[],\"kind\":null,\"name\":\"notifications\"},{\"default\":\"bottom-right\",\"kind\":null,\"name\":\"position\"},{\"default\":0,\"kind\":null,\"name\":\"_clear\"},{\"default\":[{\"background\":\"#ffc107\",\"icon\":{\"className\":\"fas fa-exclamation-triangle\",\"color\":\"white\",\"tagName\":\"i\"},\"type\":\"warning\"},{\"background\":\"#007bff\",\"icon\":{\"className\":\"fas fa-info-circle\",\"color\":\"white\",\"tagName\":\"i\"},\"type\":\"info\"}],\"kind\":null,\"name\":\"types\"}]},{\"extends\":null,\"module\":null,\"name\":\"Notification\",\"overrides\":[],\"properties\":[{\"default\":null,\"kind\":null,\"name\":\"background\"},{\"default\":3000,\"kind\":null,\"name\":\"duration\"},{\"default\":null,\"kind\":null,\"name\":\"icon\"},{\"default\":\"\",\"kind\":null,\"name\":\"message\"},{\"default\":null,\"kind\":null,\"name\":\"notification_type\"},{\"default\":false,\"kind\":null,\"name\":\"_destroyed\"}]},{\"extends\":null,\"module\":null,\"name\":\"TemplateActions1\",\"overrides\":[],\"properties\":[{\"default\":0,\"kind\":null,\"name\":\"open_modal\"},{\"default\":0,\"kind\":null,\"name\":\"close_modal\"}]},{\"extends\":null,\"module\":null,\"name\":\"MaterialTemplateActions1\",\"overrides\":[],\"properties\":[{\"default\":0,\"kind\":null,\"name\":\"open_modal\"},{\"default\":0,\"kind\":null,\"name\":\"close_modal\"}]}],\"roots\":{\"references\":[{\"attributes\":{\"months\":[0,1,2,3,4,5,6,7,8,9,10,11]},\"id\":\"2069\",\"type\":\"MonthsTicker\"},{\"attributes\":{},\"id\":\"2025\",\"type\":\"SaveTool\"},{\"attributes\":{\"line_alpha\":0.1,\"line_color\":\"#fc4f30\",\"line_width\":2,\"x\":{\"field\":\"date\"},\"y\":{\"field\":\"amount\"}},\"id\":\"2081\",\"type\":\"Line\"},{\"attributes\":{\"days\":[1,15]},\"id\":\"2068\",\"type\":\"DaysTicker\"},{\"attributes\":{},\"id\":\"2026\",\"type\":\"PanTool\"},{\"attributes\":{\"days\":[1,2,3,4,5,6,7,8,9,10,11,12,13,14,15,16,17,18,19,20,21,22,23,24,25,26,27,28,29,30,31]},\"id\":\"2065\",\"type\":\"DaysTicker\"},{\"attributes\":{\"coordinates\":null,\"data_source\":{\"id\":\"2077\"},\"glyph\":{\"id\":\"2080\"},\"group\":null,\"hover_glyph\":null,\"muted_glyph\":{\"id\":\"2082\"},\"nonselection_glyph\":{\"id\":\"2081\"},\"selection_glyph\":{\"id\":\"2110\"},\"view\":{\"id\":\"2084\"}},\"id\":\"2083\",\"type\":\"GlyphRenderer\"},{\"attributes\":{\"days\":[1,4,7,10,13,16,19,22,25,28]},\"id\":\"2066\",\"type\":\"DaysTicker\"},{\"attributes\":{},\"id\":\"2027\",\"type\":\"WheelZoomTool\"},{\"attributes\":{},\"id\":\"2094\",\"type\":\"UnionRenderers\"},{\"attributes\":{\"days\":[1,8,15,22]},\"id\":\"2067\",\"type\":\"DaysTicker\"},{\"attributes\":{\"months\":[0,6]},\"id\":\"2072\",\"type\":\"MonthsTicker\"},{\"attributes\":{\"overlay\":{\"id\":\"2030\"}},\"id\":\"2028\",\"type\":\"BoxZoomTool\"},{\"attributes\":{\"months\":[0,2,4,6,8,10]},\"id\":\"2070\",\"type\":\"MonthsTicker\"},{\"attributes\":{},\"id\":\"2029\",\"type\":\"ResetTool\"},{\"attributes\":{\"bottom_units\":\"screen\",\"coordinates\":null,\"fill_alpha\":0.5,\"fill_color\":\"lightgrey\",\"group\":null,\"left_units\":\"screen\",\"level\":\"overlay\",\"line_alpha\":1.0,\"line_color\":\"black\",\"line_dash\":[4,4],\"line_width\":2,\"right_units\":\"screen\",\"syncable\":false,\"top_units\":\"screen\"},\"id\":\"2030\",\"type\":\"BoxAnnotation\"},{\"attributes\":{\"months\":[0,4,8]},\"id\":\"2071\",\"type\":\"MonthsTicker\"},{\"attributes\":{},\"id\":\"2013\",\"type\":\"LinearScale\"},{\"attributes\":{\"source\":{\"id\":\"2044\"}},\"id\":\"2051\",\"type\":\"CDSView\"},{\"attributes\":{},\"id\":\"2059\",\"type\":\"UnionRenderers\"},{\"attributes\":{\"line_alpha\":0.2,\"line_color\":\"#fc4f30\",\"line_width\":2,\"x\":{\"field\":\"date\"},\"y\":{\"field\":\"amount\"}},\"id\":\"2082\",\"type\":\"Line\"},{\"attributes\":{},\"id\":\"2078\",\"type\":\"Selection\"},{\"attributes\":{\"base\":60,\"mantissas\":[1,2,5,10,15,20,30],\"max_interval\":1800000.0,\"min_interval\":1000.0,\"num_minor_ticks\":0},\"id\":\"2063\",\"type\":\"AdaptiveTicker\"},{\"attributes\":{\"line_color\":\"#30a2da\",\"line_width\":2,\"x\":{\"field\":\"date\"},\"y\":{\"field\":\"amount\"}},\"id\":\"2047\",\"type\":\"Line\"},{\"attributes\":{\"coordinates\":null,\"group\":null,\"text_color\":\"black\",\"text_font_size\":\"12pt\"},\"id\":\"2009\",\"type\":\"Title\"},{\"attributes\":{\"below\":[{\"id\":\"2017\"}],\"center\":[{\"id\":\"2020\"},{\"id\":\"2024\"},{\"id\":\"2074\"}],\"height\":300,\"left\":[{\"id\":\"2021\"}],\"margin\":[5,5,5,5],\"min_border_bottom\":10,\"min_border_left\":10,\"min_border_right\":10,\"min_border_top\":10,\"renderers\":[{\"id\":\"2050\"},{\"id\":\"2083\"}],\"sizing_mode\":\"fixed\",\"title\":{\"id\":\"2009\"},\"toolbar\":{\"id\":\"2031\"},\"width\":700,\"x_range\":{\"id\":\"2004\"},\"x_scale\":{\"id\":\"2013\"},\"y_range\":{\"id\":\"2005\"},\"y_scale\":{\"id\":\"2015\"}},\"id\":\"2008\",\"subtype\":\"Figure\",\"type\":\"Plot\"},{\"attributes\":{},\"id\":\"2045\",\"type\":\"Selection\"},{\"attributes\":{\"children\":[{\"id\":\"2008\"}],\"height\":300,\"margin\":[0,0,0,0],\"name\":\"Row01562\",\"sizing_mode\":\"fixed\",\"tags\":[\"embedded\"],\"width\":700},\"id\":\"2003\",\"type\":\"Row\"},{\"attributes\":{\"callback\":null,\"formatters\":{\"@{date}\":\"datetime\"},\"renderers\":[{\"id\":\"2050\"},{\"id\":\"2083\"}],\"tags\":[\"hv_created\"],\"tooltips\":[[\"date\",\"@{date}{%F %T}\"],[\"amount\",\"@{amount}\"]]},\"id\":\"2006\",\"type\":\"HoverTool\"},{\"attributes\":{\"end\":1546041600000.0,\"reset_end\":1546041600000.0,\"reset_start\":1514764800000.0,\"start\":1514764800000.0,\"tags\":[[[\"date\",\"date\",null]]]},\"id\":\"2004\",\"type\":\"Range1d\"},{\"attributes\":{\"click_policy\":\"mute\",\"coordinates\":null,\"group\":null,\"items\":[{\"id\":\"2075\"},{\"id\":\"2109\"}]},\"id\":\"2074\",\"type\":\"Legend\"},{\"attributes\":{\"end\":2036.143,\"reset_end\":2036.143,\"reset_start\":-184.37300000000002,\"start\":-184.37300000000002,\"tags\":[[[\"amount\",\"amount\",null]]]},\"id\":\"2005\",\"type\":\"Range1d\"},{\"attributes\":{\"line_alpha\":0.2,\"line_color\":\"#30a2da\",\"line_width\":2,\"x\":{\"field\":\"date\"},\"y\":{\"field\":\"amount\"}},\"id\":\"2049\",\"type\":\"Line\"},{\"attributes\":{\"data\":{\"amount\":{\"__ndarray__\":\"mpmZmZmZB0DD9Shcj8L1PwAAAAAA4GVAzczMzMyIdUBmZmZmZmYEQEjhehSuxyxAhetRuB6FC0BI4XoUrsckQFyPwvUoXBVAhetRuB6FJUB7FK5H4XoXQGZmZmZmpjJA16NwPQoXNEDNzMzMzEwyQGZmZmZm7JxAexSuR+F6AkBxPQrXo/AxQKRwPQrXoyVAXI/C9Si8QEDNzMzMzEwoQClcj8L1KBtA7FG4HoXrJEBxPQrXo3DtP6RwPQrXIzJAmpmZmZmZM0A9CtejcD0EQKRwPQrXowhA9ihcj8L1+D8AAAAAANSQQDMzMzMzMzVAH4XrUbgeNkDC9Shcj4IyQNejcD0K1/8/j8L1KFyPEkDD9Shcj8IJQFK4HoXrkT1ASOF6FK5HLUBSuB6F61H8P1yPwvUo3CxAFK5H4XqUJEAAAAAAAFicQOF6FK5H4QxAuB6F61G4JED2KFyPwjVAQHE9CtejcOU/AAAAAABANkBcj8L1KFz/P9ejcD0KF0BAMzMzMzMzK0CF61G4HoUTQAAAAAAAQF5AkML1KFxPO0ApXI/C9SgmQAAAAAAAQF1AAAAAAAAABkDXo3A9CtfzPylcj8L1qCVAw/UoXI/CD0AAAAAAAHCOQEjhehSuhzFAcT0K16NwB0A9CtejcD36P9ejcD0K1yVAPQrXo3A9JEBSuB6F65ExQI/C9ShcDyNAZmZmZmZmEkC4HoXrUfgxQArXo3A9ijJASOF6FK5HNUBmZmZmZuY1QAAAAAAAoHxA7FG4HoXrHECPwvUoXI8kQAAAAAAAYJJAMzMzMzOzJkCuR+F6FK4SQAAAAAAAwDRA7FG4HoXrFUAUrkfhetQyQEjhehSuRw1AuB6F61E4KUDD9Shcj8L5P2ZmZmZm5iRAPgrXo3B9NUCamZmZmZkbQD0K16NwPSRASOF6FK7HJEDD9Shcj8IvQMP1KFyPwvU/cT0K16NwFkDD9Shcj0IlQIXrUbgeRTZAhetRuB6FMkBI4XoUrkcnQM3MzMzMzCRAUrgehetRCEBxPQrXo3AZQAAAAAAAAPw/AAAAAACkm0AUrkfhehTmP1K4HoXrUfw/uB6F61E4MUDD9Shcj8IJQNejcD0K1/s/AAAAAAAIkkA9CtejcD0lQArXo3A9ChRAFK5H4XoU/j9xPQrXo3ARQDMzMzMzM/s/16NwPQpXMEAAAAAAAIAoQA==\",\"dtype\":\"float64\",\"order\":\"little\",\"shape\":[113]},\"date\":{\"__ndarray__\":\"AAAASfAKdkIAAADgOQx2QgAAgKveDHZCAABAETENdkIAAEA/xA92QgAAAKUWEHZCAADACmkQdkIAAIBwuxB2QgAAADxgEXZCAADAOPwSdkIAAICeThN2QgAAAGrzE3ZCAAAAxhkZdkIAAABdYxp2QgAAwMK1GnZCAABAjlobdkIAAMCHkh52QgAAALmJH3ZCAADAHtwfdkIAAEDqgCB2QgAAAFDTIHZCAABAgcohdkIAAMDjuCN2QgAAgEkLJHZCAABARqcldkIAAEDd8CZ2QgAAAENDJ3ZCAADAqJUndkIAAADajCh2QgAAQNBgLXZCAABAlT0xdkIAAID0xzR2QgAAwCW/NXZCAAAAV7Y2dkIAAIAiWzd2QgAAwOqbOXZCAACAUO45dkIAAEC2QDp2QgAAwIHlOnZCAAAAs9w7dkIAAMAYLzx2QgAAgH6BPHZCAABA5NM8dkIAAADhbz52QgAAQBJnP3ZCAADA3QtAdkIAAEBA+kF2QgAAAKZMQnZCAADAC59CdkIAAIBx8UJ2QgAAANTfRHZCAADAOTJFdkIAAEAF10V2QgAAgDbORnZCAABAnCBHdkIAAAACc0d2QgAAAJm8SHZCAADAlVhKdkIAAID7qkp2QgAAwCyiS3ZCAACAKT5NdkIAAMBaNU52QgAAQCbaTnZCAAAAjCxPdkIAAEC9I1B2QgAAgO4aUXZCAAAAur9RdkIAAEDrtlJ2QgAAwLZbU3ZCAAAA6FJUdkIAAIB41Fh2QgAAAER5WXZCAADAqctZdkIAAICmZ1t2QgAAAHIMXHZCAADA115cdkIAAIA9sVx2QgAAgNT6XXZCAAAAN+lfdkIAAMCcO2B2QgAAQGjgYHZCAADAM4VhdkIAAICZ12F2QgAAAGV8YnZCAAAAKllmdkIAAEBbUGd2QgAAAMGiZ3ZCAADAvT5pdkIAAIAjkWl2QgAAQInjaXZCAADA69FrdkIAAEC3dmx2QgAAAB3JbHZCAACA6G1tdkIAAEBOwG12QgAAgH+3bnZCAADAsK5vdkIAAIAWAXB2QgAAQHxTcHZCAAAAee9xdkIAAMB1i3N2QgAAwAzVdHZCAACAcid1dkIAAEDYeXV2QgAAwDpod3ZCAACAzk16dkIAAMD/RHt2QgAAgGWXe3ZCAADAlo58dkIAAADIhX12QgAAAF/PfnZCAADAxCF/dkIAAIAqdH92Qg==\",\"dtype\":\"float64\",\"order\":\"little\",\"shape\":[113]}},\"selected\":{\"id\":\"2078\"},\"selection_policy\":{\"id\":\"2094\"}},\"id\":\"2077\",\"type\":\"ColumnDataSource\"},{\"attributes\":{\"source\":{\"id\":\"2077\"}},\"id\":\"2084\",\"type\":\"CDSView\"},{\"attributes\":{\"line_alpha\":0.1,\"line_color\":\"#30a2da\",\"line_width\":2,\"x\":{\"field\":\"date\"},\"y\":{\"field\":\"amount\"}},\"id\":\"2048\",\"type\":\"Line\"},{\"attributes\":{\"active_drag\":{\"id\":\"2026\"},\"active_scroll\":{\"id\":\"2027\"},\"tools\":[{\"id\":\"2006\"},{\"id\":\"2025\"},{\"id\":\"2026\"},{\"id\":\"2027\"},{\"id\":\"2028\"},{\"id\":\"2029\"}]},\"id\":\"2031\",\"type\":\"Toolbar\"},{\"attributes\":{\"line_color\":\"#30a2da\",\"line_width\":2,\"x\":{\"field\":\"date\"},\"y\":{\"field\":\"amount\"}},\"id\":\"2076\",\"type\":\"Line\"},{\"attributes\":{},\"id\":\"2040\",\"type\":\"AllLabels\"},{\"attributes\":{},\"id\":\"2042\",\"type\":\"BasicTickFormatter\"},{\"attributes\":{\"data\":{\"amount\":{\"__ndarray__\":\"zczMzMxMKEAK16NwPUoxQFK4HoXr0SVApHA9CtejMUApXI/C9SgnQHE9Ctej8CRASOF6FK7HJkCPwvUoXI/2P3sUrkfh2kBA16NwPQrXG0ApXI/C9SjwP4XrUbgehTJAj8L1KFwPMUBmZmZmZmYQQClcj8L1qDFAKVyPwvUoJEBSuB6F61EOQHsUrkfhei5AcT0K16NwJkAVrkfhepQnQEjhehSuRxtAH4XrUbieMkBI4XoUrkfxPwAAAAAAABpAhetRuB6FJkDsUbgehWskQIXrUbgehSRAH4XrUbieJEBmZmZmZmbmPzMzMzMzMxpAhetRuB4FN0Bcj8L1KFwLQPUoXI/CNTZACtejcD0K8z8pXI/C9Sj8P+xRuB6F6y9AhetRuB5FO0BmZmZmZuYvQPYoXI/C9TBAzczMzMxMJUCF61G4HoUUQEjhehSuRylAuB6F61G4+j8AAAAAAEAxQNejcD0K1xNAmpmZmZlZNEAfhetRuB4TQHE9CtejcAtAPQrXo3D9MECkcD0K16MdQArXo3A9CglAKVyPwvWoJEApXI/C9SgxQFyPwvUoXBBAzczMzMyMMECPwvUoXI8TQBSuR+F6lCRAw/UoXI+CM0AfhetRuB4kQHE9CtejcChAmpmZmZmZEEApXI/C9egzQLgehetRuDFAZmZmZmZmCEBI4XoUrkf5PwrXo3A9CidAXI/C9ShcD0AzMzMzM7MmQLgehetRuPI/CtejcD0KJEBcj8L1KFwHQNejcD0KVyRAH4XrUbgeKkDXo3A9CtcwQB+F61G4HgdAexSuR+F6QEBSuB6F69EmQAAAAAAAAAJAZmZmZmZmMEApXI/C9SgkQClcj8L1KBFASOF6FK7HKEDsUbgehWs9QMP1KFyPwiZAZmZmZmZmJECPwvUoXA8mQA==\",\"dtype\":\"float64\",\"order\":\"little\",\"shape\":[86]},\"date\":{\"__ndarray__\":\"AADARYwMdkIAAICr3gx2QgAAwNzVDXZCAABAP8QPdkIAAIBwuxB2QgAAgAcFEnZCAADAOPwSdkIAAMBmjxV2QgAAgGMrF3ZCAADAWf8bdkIAAACL9hx2QgAAwPBIHXZCAABAUzcfdkIAAAC5iR92QgAAAFDTIHZCAADAtSUhdkIAAIAbeCF2QgAAwExvInZCAAAAfmYjdkIAAIBJCyR2QgAAABWwJHZCAABA3fAmdkIAAIAO6Cd2QgAAAHHWKXZCAADA1igqdkIAAIDTxCt2QgAAgGoOLXZCAAAANrMtdkIAAIAv6zB2QgAAAPuPMXZCAADA9yszdkIAAMCOdTR2QgAAQFoaNXZCAADAU1I4dkIAAEAf9zh2QgAAQLZAOnZCAABATYo7dkIAAACz3Dt2QgAAQOTTPHZCAAAASiY9dkIAAAB4uT92QgAAwN0LQHZCAAAADwNBdkIAAMB0VUF2QgAAgHHxQnZCAADAOTJFdkIAAEAF10V2QgAAwNB7RnZCAACANs5GdkIAAECcIEd2QgAAAAJzR3ZCAACAkvRLdkIAAAD14k12QgAAACN2UHZCAADAiMhQdkIAAMC2W1N2QgAAQIIAVHZCAACAs/dUdkIAAIBKQVZ2QgAAwHs4V3ZCAAAAcgxcdkIAAMBuqF12QgAAgNT6XXZCAACAa0RfdkIAAEDRll92QgAAADfpX3ZCAABAaOBgdkIAAED/KWJ2QgAAgDAhY3ZCAADAYRhkdkIAAEAtvWR2QgAAQMQGZnZCAAAAwaJndkIAAADvNWp2QgAAAIZ/a3ZCAACAUSRsdkIAAEBOwG12QgAAgBYBcHZCAACArUpxdkIAAMCjHnZ2QgAAQG/DdnZCAADA0bF4dkIAAIDOTXp2QgAAwP9Ee3ZCAABAYjN9dkIAAMDEIX92Qg==\",\"dtype\":\"float64\",\"order\":\"little\",\"shape\":[86]}},\"selected\":{\"id\":\"2045\"},\"selection_policy\":{\"id\":\"2059\"}},\"id\":\"2044\",\"type\":\"ColumnDataSource\"},{\"attributes\":{\"coordinates\":null,\"data_source\":{\"id\":\"2044\"},\"glyph\":{\"id\":\"2047\"},\"group\":null,\"hover_glyph\":null,\"muted_glyph\":{\"id\":\"2049\"},\"nonselection_glyph\":{\"id\":\"2048\"},\"selection_glyph\":{\"id\":\"2076\"},\"view\":{\"id\":\"2051\"}},\"id\":\"2050\",\"type\":\"GlyphRenderer\"},{\"attributes\":{\"line_color\":\"#fc4f30\",\"line_width\":2,\"x\":{\"field\":\"date\"},\"y\":{\"field\":\"amount\"}},\"id\":\"2080\",\"type\":\"Line\"},{\"attributes\":{\"axis_label\":\"Date\",\"coordinates\":null,\"formatter\":{\"id\":\"2039\"},\"group\":null,\"major_label_orientation\":0.7853981633974483,\"major_label_policy\":{\"id\":\"2040\"},\"ticker\":{\"id\":\"2018\"}},\"id\":\"2017\",\"type\":\"DatetimeAxis\"},{\"attributes\":{},\"id\":\"2015\",\"type\":\"LinearScale\"},{\"attributes\":{\"axis_label\":\"Amount\",\"coordinates\":null,\"formatter\":{\"id\":\"2042\"},\"group\":null,\"major_label_policy\":{\"id\":\"2043\"},\"ticker\":{\"id\":\"2022\"}},\"id\":\"2021\",\"type\":\"LinearAxis\"},{\"attributes\":{\"num_minor_ticks\":5,\"tickers\":[{\"id\":\"2062\"},{\"id\":\"2063\"},{\"id\":\"2064\"},{\"id\":\"2065\"},{\"id\":\"2066\"},{\"id\":\"2067\"},{\"id\":\"2068\"},{\"id\":\"2069\"},{\"id\":\"2070\"},{\"id\":\"2071\"},{\"id\":\"2072\"},{\"id\":\"2073\"}]},\"id\":\"2018\",\"type\":\"DatetimeTicker\"},{\"attributes\":{\"axis\":{\"id\":\"2017\"},\"coordinates\":null,\"grid_line_color\":null,\"group\":null,\"ticker\":null},\"id\":\"2020\",\"type\":\"Grid\"},{\"attributes\":{\"label\":{\"value\":\"Card Holder 2\"},\"renderers\":[{\"id\":\"2050\"}]},\"id\":\"2075\",\"type\":\"LegendItem\"},{\"attributes\":{\"mantissas\":[1,2,5],\"max_interval\":500.0,\"num_minor_ticks\":0},\"id\":\"2062\",\"type\":\"AdaptiveTicker\"},{\"attributes\":{},\"id\":\"2039\",\"type\":\"DatetimeTickFormatter\"},{\"attributes\":{},\"id\":\"2043\",\"type\":\"AllLabels\"},{\"attributes\":{\"axis\":{\"id\":\"2021\"},\"coordinates\":null,\"dimension\":1,\"grid_line_color\":null,\"group\":null,\"ticker\":null},\"id\":\"2024\",\"type\":\"Grid\"},{\"attributes\":{\"label\":{\"value\":\"Card Holder 18\"},\"renderers\":[{\"id\":\"2083\"}]},\"id\":\"2109\",\"type\":\"LegendItem\"},{\"attributes\":{\"line_color\":\"#fc4f30\",\"line_width\":2,\"x\":{\"field\":\"date\"},\"y\":{\"field\":\"amount\"}},\"id\":\"2110\",\"type\":\"Line\"},{\"attributes\":{},\"id\":\"2022\",\"type\":\"BasicTicker\"},{\"attributes\":{\"base\":24,\"mantissas\":[1,2,4,6,8,12],\"max_interval\":43200000.0,\"min_interval\":3600000.0,\"num_minor_ticks\":0},\"id\":\"2064\",\"type\":\"AdaptiveTicker\"},{\"attributes\":{},\"id\":\"2073\",\"type\":\"YearsTicker\"}],\"root_ids\":[\"2003\"]},\"title\":\"Bokeh Application\",\"version\":\"2.4.3\"}};\n",
       "    var render_items = [{\"docid\":\"933273ca-bb3b-4df2-af03-3451a5ce0451\",\"root_ids\":[\"2003\"],\"roots\":{\"2003\":\"3b513452-6e41-4dec-8d2e-6855e51a28de\"}}];\n",
       "    root.Bokeh.embed.embed_items_notebook(docs_json, render_items);\n",
       "    for (const render_item of render_items) {\n",
       "      for (const root_id of render_item.root_ids) {\n",
       "\tconst id_el = document.getElementById(root_id)\n",
       "\tif (id_el.children.length && (id_el.children[0].className === 'bk-root')) {\n",
       "\t  const root_el = id_el.children[0]\n",
       "\t  root_el.id = root_el.id + '-rendered'\n",
       "\t}\n",
       "      }\n",
       "    }\n",
       "  }\n",
       "  if (root.Bokeh !== undefined && root.Bokeh.Panel !== undefined) {\n",
       "    embed_document(root);\n",
       "  } else {\n",
       "    var attempts = 0;\n",
       "    var timer = setInterval(function(root) {\n",
       "      if (root.Bokeh !== undefined && root.Bokeh.Panel !== undefined) {\n",
       "        clearInterval(timer);\n",
       "        embed_document(root);\n",
       "      } else if (document.readyState == \"complete\") {\n",
       "        attempts++;\n",
       "        if (attempts > 200) {\n",
       "          clearInterval(timer);\n",
       "          console.log(\"Bokeh: ERROR: Unable to run BokehJS code because BokehJS library is missing\");\n",
       "        }\n",
       "      }\n",
       "    }, 25, root)\n",
       "  }\n",
       "})(window);</script>"
      ],
      "text/plain": [
       ":Overlay\n",
       "   .Curve.Card_Holder_2  :Curve   [date]   (amount)\n",
       "   .Curve.Card_Holder_18 :Curve   [date]   (amount)"
      ]
     },
     "execution_count": 17,
     "metadata": {
      "application/vnd.holoviews_exec.v0+json": {
       "id": "2003"
      }
     },
     "output_type": "execute_result"
    }
   ],
   "source": [
    "# Combined analysis of transactions by CH2 and CH18 using hvplot - Output in 'Outputs' dir\n",
    "\n",
    "ch2_total_transactions_by_date.hvplot(xlabel='Date',\n",
    "                       ylabel='Amount',\n",
    "                       label=\"Card Holder 2\") * ch18_total_transactions_by_date.hvplot(xlabel='Date',\n",
    "                                                                        ylabel='Amount',\n",
    "                                                                        rot=45,\n",
    "                                                                        label=\"Card Holder 18\")"
   ]
  },
  {
   "cell_type": "code",
   "execution_count": 18,
   "id": "5c0aa8ec",
   "metadata": {},
   "outputs": [
    {
     "data": {
      "text/html": [
       "<div>\n",
       "<style scoped>\n",
       "    .dataframe tbody tr th:only-of-type {\n",
       "        vertical-align: middle;\n",
       "    }\n",
       "\n",
       "    .dataframe tbody tr th {\n",
       "        vertical-align: top;\n",
       "    }\n",
       "\n",
       "    .dataframe thead th {\n",
       "        text-align: right;\n",
       "    }\n",
       "</style>\n",
       "<table border=\"1\" class=\"dataframe\">\n",
       "  <thead>\n",
       "    <tr style=\"text-align: right;\">\n",
       "      <th></th>\n",
       "      <th>amount</th>\n",
       "    </tr>\n",
       "    <tr>\n",
       "      <th>date</th>\n",
       "      <th></th>\n",
       "    </tr>\n",
       "  </thead>\n",
       "  <tbody>\n",
       "    <tr>\n",
       "      <th>2018-01-02</th>\n",
       "      <td>1.46</td>\n",
       "    </tr>\n",
       "    <tr>\n",
       "      <th>2018-01-05</th>\n",
       "      <td>10.74</td>\n",
       "    </tr>\n",
       "    <tr>\n",
       "      <th>2018-01-07</th>\n",
       "      <td>2.93</td>\n",
       "    </tr>\n",
       "    <tr>\n",
       "      <th>2018-01-10</th>\n",
       "      <td>1.39</td>\n",
       "    </tr>\n",
       "    <tr>\n",
       "      <th>2018-01-14</th>\n",
       "      <td>17.84</td>\n",
       "    </tr>\n",
       "  </tbody>\n",
       "</table>\n",
       "</div>"
      ],
      "text/plain": [
       "            amount\n",
       "date              \n",
       "2018-01-02    1.46\n",
       "2018-01-05   10.74\n",
       "2018-01-07    2.93\n",
       "2018-01-10    1.39\n",
       "2018-01-14   17.84"
      ]
     },
     "execution_count": 18,
     "metadata": {},
     "output_type": "execute_result"
    }
   ],
   "source": [
    "# Fetching daily transactions from JAN'18 to JUNE'18 for CH25\n",
    "\n",
    "# Slicing the data\n",
    "cardholder_25_transactions = (transactions_by_cardholder_df.loc[transactions_by_cardholder_df.ch_id.isin([25])]\n",
    "                                    .drop(columns=['t_id', 'name', 'card'])\n",
    "                                    )\n",
    "\n",
    "# Changing date column type to datetime and slicing data from JAN to JUNE\n",
    "cardholder_25_transactions['date'] = pd.to_datetime(cardholder_25_transactions['date'])\n",
    "cardholder_25_transactions.set_index('date', inplace=True)\n",
    "cardholder_25_transactions.sort_index(ascending=True, inplace=True)\n",
    "ch25_transactions_jan_jun = cardholder_25_transactions.loc['2018-01-01':'2018-07-01'].reset_index()\n",
    "\n",
    "\n",
    "ch25_transactions_jan_jun_grp = (ch25_transactions_jan_jun.groupby('date').sum()\n",
    "                                 .drop(columns='ch_id')\n",
    "                                )\n",
    "ch25_transactions_jan_jun_grp.head()"
   ]
  },
  {
   "cell_type": "code",
   "execution_count": 19,
   "id": "009bb02e",
   "metadata": {},
   "outputs": [
    {
     "data": {
      "text/html": [
       "<div>\n",
       "<style scoped>\n",
       "    .dataframe tbody tr th:only-of-type {\n",
       "        vertical-align: middle;\n",
       "    }\n",
       "\n",
       "    .dataframe tbody tr th {\n",
       "        vertical-align: top;\n",
       "    }\n",
       "\n",
       "    .dataframe thead th {\n",
       "        text-align: right;\n",
       "    }\n",
       "</style>\n",
       "<table border=\"1\" class=\"dataframe\">\n",
       "  <thead>\n",
       "    <tr style=\"text-align: right;\">\n",
       "      <th></th>\n",
       "      <th>date</th>\n",
       "      <th>amount</th>\n",
       "    </tr>\n",
       "  </thead>\n",
       "  <tbody>\n",
       "    <tr>\n",
       "      <th>0</th>\n",
       "      <td>Jan</td>\n",
       "      <td>1.46</td>\n",
       "    </tr>\n",
       "    <tr>\n",
       "      <th>1</th>\n",
       "      <td>Jan</td>\n",
       "      <td>10.74</td>\n",
       "    </tr>\n",
       "    <tr>\n",
       "      <th>2</th>\n",
       "      <td>Jan</td>\n",
       "      <td>2.93</td>\n",
       "    </tr>\n",
       "    <tr>\n",
       "      <th>3</th>\n",
       "      <td>Jan</td>\n",
       "      <td>1.39</td>\n",
       "    </tr>\n",
       "    <tr>\n",
       "      <th>4</th>\n",
       "      <td>Jan</td>\n",
       "      <td>17.84</td>\n",
       "    </tr>\n",
       "  </tbody>\n",
       "</table>\n",
       "</div>"
      ],
      "text/plain": [
       "  date  amount\n",
       "0  Jan    1.46\n",
       "1  Jan   10.74\n",
       "2  Jan    2.93\n",
       "3  Jan    1.39\n",
       "4  Jan   17.84"
      ]
     },
     "execution_count": 19,
     "metadata": {},
     "output_type": "execute_result"
    }
   ],
   "source": [
    "# Numeric months to month names\n",
    "from datetime import datetime\n",
    "ch25_transactions_jan_jun['date'] = (pd.to_datetime(ch25_transactions_jan_jun['date'], format='%Y%m%d')\n",
    "                                     .dt.strftime('%b')\n",
    "                                    )\n",
    "ch25_box_plot_df = ch25_transactions_jan_jun.drop(columns='ch_id')\n",
    "ch25_box_plot_df.head()"
   ]
  },
  {
   "cell_type": "code",
   "execution_count": 20,
   "id": "d8ac849e",
   "metadata": {},
   "outputs": [
    {
     "data": {
      "application/vnd.plotly.v1+json": {
       "config": {
        "plotlyServerURL": "https://plot.ly"
       },
       "data": [
        {
         "alignmentgroup": "True",
         "hovertemplate": "date=%{x}<br>amount=%{y}<extra></extra>",
         "legendgroup": "",
         "marker": {
          "color": "#636efa"
         },
         "name": "",
         "notched": false,
         "offsetgroup": "",
         "orientation": "v",
         "showlegend": false,
         "type": "box",
         "x": [
          "Jan",
          "Jan",
          "Jan",
          "Jan",
          "Jan",
          "Jan",
          "Jan",
          "Jan",
          "Jan",
          "Jan",
          "Feb",
          "Feb",
          "Feb",
          "Feb",
          "Feb",
          "Feb",
          "Feb",
          "Feb",
          "Feb",
          "Feb",
          "Mar",
          "Mar",
          "Mar",
          "Mar",
          "Mar",
          "Mar",
          "Mar",
          "Mar",
          "Mar",
          "Mar",
          "Mar",
          "Mar",
          "Mar",
          "Apr",
          "Apr",
          "Apr",
          "Apr",
          "Apr",
          "Apr",
          "Apr",
          "Apr",
          "Apr",
          "Apr",
          "Apr",
          "Apr",
          "Apr",
          "Apr",
          "Apr",
          "Apr",
          "May",
          "May",
          "May",
          "May",
          "May",
          "Jun",
          "Jun",
          "Jun",
          "Jun",
          "Jun",
          "Jun",
          "Jun",
          "Jun",
          "Jun",
          "Jun",
          "Jun",
          "Jun",
          "Jun",
          "Jun"
         ],
         "x0": " ",
         "xaxis": "x",
         "y": [
          1.46,
          10.74,
          2.93,
          1.39,
          17.84,
          1.65,
          15.86,
          2.22,
          1177,
          2.75,
          10.75,
          10.81,
          5.97,
          3.69,
          16.7,
          1.26,
          2.63,
          11.01,
          1.18,
          0.91,
          12.42,
          16.58,
          1334,
          2.88,
          2.04,
          13.57,
          1.65,
          10.1,
          3.08,
          4.2,
          2.56,
          18.28,
          21.04,
          100,
          2.62,
          7.08,
          17.15,
          1063,
          10.06,
          10.15,
          269,
          10.24,
          7.39,
          6.01,
          20.03,
          15.66,
          2.79,
          10.02,
          16.5,
          1.1,
          1046,
          12.15,
          2.27,
          5.97,
          1162,
          749,
          10.69,
          11.88,
          1.03,
          11.01,
          10.15,
          16.29,
          15.98,
          1813,
          16.61,
          11.53,
          5.24,
          2.27
         ],
         "y0": " ",
         "yaxis": "y"
        }
       ],
       "layout": {
        "boxmode": "group",
        "legend": {
         "tracegroupgap": 0
        },
        "template": {
         "data": {
          "bar": [
           {
            "error_x": {
             "color": "#2a3f5f"
            },
            "error_y": {
             "color": "#2a3f5f"
            },
            "marker": {
             "line": {
              "color": "#E5ECF6",
              "width": 0.5
             },
             "pattern": {
              "fillmode": "overlay",
              "size": 10,
              "solidity": 0.2
             }
            },
            "type": "bar"
           }
          ],
          "barpolar": [
           {
            "marker": {
             "line": {
              "color": "#E5ECF6",
              "width": 0.5
             },
             "pattern": {
              "fillmode": "overlay",
              "size": 10,
              "solidity": 0.2
             }
            },
            "type": "barpolar"
           }
          ],
          "carpet": [
           {
            "aaxis": {
             "endlinecolor": "#2a3f5f",
             "gridcolor": "white",
             "linecolor": "white",
             "minorgridcolor": "white",
             "startlinecolor": "#2a3f5f"
            },
            "baxis": {
             "endlinecolor": "#2a3f5f",
             "gridcolor": "white",
             "linecolor": "white",
             "minorgridcolor": "white",
             "startlinecolor": "#2a3f5f"
            },
            "type": "carpet"
           }
          ],
          "choropleth": [
           {
            "colorbar": {
             "outlinewidth": 0,
             "ticks": ""
            },
            "type": "choropleth"
           }
          ],
          "contour": [
           {
            "colorbar": {
             "outlinewidth": 0,
             "ticks": ""
            },
            "colorscale": [
             [
              0,
              "#0d0887"
             ],
             [
              0.1111111111111111,
              "#46039f"
             ],
             [
              0.2222222222222222,
              "#7201a8"
             ],
             [
              0.3333333333333333,
              "#9c179e"
             ],
             [
              0.4444444444444444,
              "#bd3786"
             ],
             [
              0.5555555555555556,
              "#d8576b"
             ],
             [
              0.6666666666666666,
              "#ed7953"
             ],
             [
              0.7777777777777778,
              "#fb9f3a"
             ],
             [
              0.8888888888888888,
              "#fdca26"
             ],
             [
              1,
              "#f0f921"
             ]
            ],
            "type": "contour"
           }
          ],
          "contourcarpet": [
           {
            "colorbar": {
             "outlinewidth": 0,
             "ticks": ""
            },
            "type": "contourcarpet"
           }
          ],
          "heatmap": [
           {
            "colorbar": {
             "outlinewidth": 0,
             "ticks": ""
            },
            "colorscale": [
             [
              0,
              "#0d0887"
             ],
             [
              0.1111111111111111,
              "#46039f"
             ],
             [
              0.2222222222222222,
              "#7201a8"
             ],
             [
              0.3333333333333333,
              "#9c179e"
             ],
             [
              0.4444444444444444,
              "#bd3786"
             ],
             [
              0.5555555555555556,
              "#d8576b"
             ],
             [
              0.6666666666666666,
              "#ed7953"
             ],
             [
              0.7777777777777778,
              "#fb9f3a"
             ],
             [
              0.8888888888888888,
              "#fdca26"
             ],
             [
              1,
              "#f0f921"
             ]
            ],
            "type": "heatmap"
           }
          ],
          "heatmapgl": [
           {
            "colorbar": {
             "outlinewidth": 0,
             "ticks": ""
            },
            "colorscale": [
             [
              0,
              "#0d0887"
             ],
             [
              0.1111111111111111,
              "#46039f"
             ],
             [
              0.2222222222222222,
              "#7201a8"
             ],
             [
              0.3333333333333333,
              "#9c179e"
             ],
             [
              0.4444444444444444,
              "#bd3786"
             ],
             [
              0.5555555555555556,
              "#d8576b"
             ],
             [
              0.6666666666666666,
              "#ed7953"
             ],
             [
              0.7777777777777778,
              "#fb9f3a"
             ],
             [
              0.8888888888888888,
              "#fdca26"
             ],
             [
              1,
              "#f0f921"
             ]
            ],
            "type": "heatmapgl"
           }
          ],
          "histogram": [
           {
            "marker": {
             "pattern": {
              "fillmode": "overlay",
              "size": 10,
              "solidity": 0.2
             }
            },
            "type": "histogram"
           }
          ],
          "histogram2d": [
           {
            "colorbar": {
             "outlinewidth": 0,
             "ticks": ""
            },
            "colorscale": [
             [
              0,
              "#0d0887"
             ],
             [
              0.1111111111111111,
              "#46039f"
             ],
             [
              0.2222222222222222,
              "#7201a8"
             ],
             [
              0.3333333333333333,
              "#9c179e"
             ],
             [
              0.4444444444444444,
              "#bd3786"
             ],
             [
              0.5555555555555556,
              "#d8576b"
             ],
             [
              0.6666666666666666,
              "#ed7953"
             ],
             [
              0.7777777777777778,
              "#fb9f3a"
             ],
             [
              0.8888888888888888,
              "#fdca26"
             ],
             [
              1,
              "#f0f921"
             ]
            ],
            "type": "histogram2d"
           }
          ],
          "histogram2dcontour": [
           {
            "colorbar": {
             "outlinewidth": 0,
             "ticks": ""
            },
            "colorscale": [
             [
              0,
              "#0d0887"
             ],
             [
              0.1111111111111111,
              "#46039f"
             ],
             [
              0.2222222222222222,
              "#7201a8"
             ],
             [
              0.3333333333333333,
              "#9c179e"
             ],
             [
              0.4444444444444444,
              "#bd3786"
             ],
             [
              0.5555555555555556,
              "#d8576b"
             ],
             [
              0.6666666666666666,
              "#ed7953"
             ],
             [
              0.7777777777777778,
              "#fb9f3a"
             ],
             [
              0.8888888888888888,
              "#fdca26"
             ],
             [
              1,
              "#f0f921"
             ]
            ],
            "type": "histogram2dcontour"
           }
          ],
          "mesh3d": [
           {
            "colorbar": {
             "outlinewidth": 0,
             "ticks": ""
            },
            "type": "mesh3d"
           }
          ],
          "parcoords": [
           {
            "line": {
             "colorbar": {
              "outlinewidth": 0,
              "ticks": ""
             }
            },
            "type": "parcoords"
           }
          ],
          "pie": [
           {
            "automargin": true,
            "type": "pie"
           }
          ],
          "scatter": [
           {
            "fillpattern": {
             "fillmode": "overlay",
             "size": 10,
             "solidity": 0.2
            },
            "type": "scatter"
           }
          ],
          "scatter3d": [
           {
            "line": {
             "colorbar": {
              "outlinewidth": 0,
              "ticks": ""
             }
            },
            "marker": {
             "colorbar": {
              "outlinewidth": 0,
              "ticks": ""
             }
            },
            "type": "scatter3d"
           }
          ],
          "scattercarpet": [
           {
            "marker": {
             "colorbar": {
              "outlinewidth": 0,
              "ticks": ""
             }
            },
            "type": "scattercarpet"
           }
          ],
          "scattergeo": [
           {
            "marker": {
             "colorbar": {
              "outlinewidth": 0,
              "ticks": ""
             }
            },
            "type": "scattergeo"
           }
          ],
          "scattergl": [
           {
            "marker": {
             "colorbar": {
              "outlinewidth": 0,
              "ticks": ""
             }
            },
            "type": "scattergl"
           }
          ],
          "scattermapbox": [
           {
            "marker": {
             "colorbar": {
              "outlinewidth": 0,
              "ticks": ""
             }
            },
            "type": "scattermapbox"
           }
          ],
          "scatterpolar": [
           {
            "marker": {
             "colorbar": {
              "outlinewidth": 0,
              "ticks": ""
             }
            },
            "type": "scatterpolar"
           }
          ],
          "scatterpolargl": [
           {
            "marker": {
             "colorbar": {
              "outlinewidth": 0,
              "ticks": ""
             }
            },
            "type": "scatterpolargl"
           }
          ],
          "scatterternary": [
           {
            "marker": {
             "colorbar": {
              "outlinewidth": 0,
              "ticks": ""
             }
            },
            "type": "scatterternary"
           }
          ],
          "surface": [
           {
            "colorbar": {
             "outlinewidth": 0,
             "ticks": ""
            },
            "colorscale": [
             [
              0,
              "#0d0887"
             ],
             [
              0.1111111111111111,
              "#46039f"
             ],
             [
              0.2222222222222222,
              "#7201a8"
             ],
             [
              0.3333333333333333,
              "#9c179e"
             ],
             [
              0.4444444444444444,
              "#bd3786"
             ],
             [
              0.5555555555555556,
              "#d8576b"
             ],
             [
              0.6666666666666666,
              "#ed7953"
             ],
             [
              0.7777777777777778,
              "#fb9f3a"
             ],
             [
              0.8888888888888888,
              "#fdca26"
             ],
             [
              1,
              "#f0f921"
             ]
            ],
            "type": "surface"
           }
          ],
          "table": [
           {
            "cells": {
             "fill": {
              "color": "#EBF0F8"
             },
             "line": {
              "color": "white"
             }
            },
            "header": {
             "fill": {
              "color": "#C8D4E3"
             },
             "line": {
              "color": "white"
             }
            },
            "type": "table"
           }
          ]
         },
         "layout": {
          "annotationdefaults": {
           "arrowcolor": "#2a3f5f",
           "arrowhead": 0,
           "arrowwidth": 1
          },
          "autotypenumbers": "strict",
          "coloraxis": {
           "colorbar": {
            "outlinewidth": 0,
            "ticks": ""
           }
          },
          "colorscale": {
           "diverging": [
            [
             0,
             "#8e0152"
            ],
            [
             0.1,
             "#c51b7d"
            ],
            [
             0.2,
             "#de77ae"
            ],
            [
             0.3,
             "#f1b6da"
            ],
            [
             0.4,
             "#fde0ef"
            ],
            [
             0.5,
             "#f7f7f7"
            ],
            [
             0.6,
             "#e6f5d0"
            ],
            [
             0.7,
             "#b8e186"
            ],
            [
             0.8,
             "#7fbc41"
            ],
            [
             0.9,
             "#4d9221"
            ],
            [
             1,
             "#276419"
            ]
           ],
           "sequential": [
            [
             0,
             "#0d0887"
            ],
            [
             0.1111111111111111,
             "#46039f"
            ],
            [
             0.2222222222222222,
             "#7201a8"
            ],
            [
             0.3333333333333333,
             "#9c179e"
            ],
            [
             0.4444444444444444,
             "#bd3786"
            ],
            [
             0.5555555555555556,
             "#d8576b"
            ],
            [
             0.6666666666666666,
             "#ed7953"
            ],
            [
             0.7777777777777778,
             "#fb9f3a"
            ],
            [
             0.8888888888888888,
             "#fdca26"
            ],
            [
             1,
             "#f0f921"
            ]
           ],
           "sequentialminus": [
            [
             0,
             "#0d0887"
            ],
            [
             0.1111111111111111,
             "#46039f"
            ],
            [
             0.2222222222222222,
             "#7201a8"
            ],
            [
             0.3333333333333333,
             "#9c179e"
            ],
            [
             0.4444444444444444,
             "#bd3786"
            ],
            [
             0.5555555555555556,
             "#d8576b"
            ],
            [
             0.6666666666666666,
             "#ed7953"
            ],
            [
             0.7777777777777778,
             "#fb9f3a"
            ],
            [
             0.8888888888888888,
             "#fdca26"
            ],
            [
             1,
             "#f0f921"
            ]
           ]
          },
          "colorway": [
           "#636efa",
           "#EF553B",
           "#00cc96",
           "#ab63fa",
           "#FFA15A",
           "#19d3f3",
           "#FF6692",
           "#B6E880",
           "#FF97FF",
           "#FECB52"
          ],
          "font": {
           "color": "#2a3f5f"
          },
          "geo": {
           "bgcolor": "white",
           "lakecolor": "white",
           "landcolor": "#E5ECF6",
           "showlakes": true,
           "showland": true,
           "subunitcolor": "white"
          },
          "hoverlabel": {
           "align": "left"
          },
          "hovermode": "closest",
          "mapbox": {
           "style": "light"
          },
          "paper_bgcolor": "white",
          "plot_bgcolor": "#E5ECF6",
          "polar": {
           "angularaxis": {
            "gridcolor": "white",
            "linecolor": "white",
            "ticks": ""
           },
           "bgcolor": "#E5ECF6",
           "radialaxis": {
            "gridcolor": "white",
            "linecolor": "white",
            "ticks": ""
           }
          },
          "scene": {
           "xaxis": {
            "backgroundcolor": "#E5ECF6",
            "gridcolor": "white",
            "gridwidth": 2,
            "linecolor": "white",
            "showbackground": true,
            "ticks": "",
            "zerolinecolor": "white"
           },
           "yaxis": {
            "backgroundcolor": "#E5ECF6",
            "gridcolor": "white",
            "gridwidth": 2,
            "linecolor": "white",
            "showbackground": true,
            "ticks": "",
            "zerolinecolor": "white"
           },
           "zaxis": {
            "backgroundcolor": "#E5ECF6",
            "gridcolor": "white",
            "gridwidth": 2,
            "linecolor": "white",
            "showbackground": true,
            "ticks": "",
            "zerolinecolor": "white"
           }
          },
          "shapedefaults": {
           "line": {
            "color": "#2a3f5f"
           }
          },
          "ternary": {
           "aaxis": {
            "gridcolor": "white",
            "linecolor": "white",
            "ticks": ""
           },
           "baxis": {
            "gridcolor": "white",
            "linecolor": "white",
            "ticks": ""
           },
           "bgcolor": "#E5ECF6",
           "caxis": {
            "gridcolor": "white",
            "linecolor": "white",
            "ticks": ""
           }
          },
          "title": {
           "x": 0.05
          },
          "xaxis": {
           "automargin": true,
           "gridcolor": "white",
           "linecolor": "white",
           "ticks": "",
           "title": {
            "standoff": 15
           },
           "zerolinecolor": "white",
           "zerolinewidth": 2
          },
          "yaxis": {
           "automargin": true,
           "gridcolor": "white",
           "linecolor": "white",
           "ticks": "",
           "title": {
            "standoff": 15
           },
           "zerolinecolor": "white",
           "zerolinewidth": 2
          }
         }
        },
        "title": {
         "text": "Transactions By Month for Card Holder 25"
        },
        "xaxis": {
         "anchor": "y",
         "domain": [
          0,
          1
         ],
         "title": {
          "text": "date"
         }
        },
        "yaxis": {
         "anchor": "x",
         "domain": [
          0,
          1
         ],
         "title": {
          "text": "amount"
         }
        }
       }
      },
      "text/html": [
       "<div>                            <div id=\"ecd8ccb7-9b06-456f-94a5-d9f66d38ba75\" class=\"plotly-graph-div\" style=\"height:525px; width:100%;\"></div>            <script type=\"text/javascript\">                require([\"plotly\"], function(Plotly) {                    window.PLOTLYENV=window.PLOTLYENV || {};                                    if (document.getElementById(\"ecd8ccb7-9b06-456f-94a5-d9f66d38ba75\")) {                    Plotly.newPlot(                        \"ecd8ccb7-9b06-456f-94a5-d9f66d38ba75\",                        [{\"alignmentgroup\":\"True\",\"hovertemplate\":\"date=%{x}<br>amount=%{y}<extra></extra>\",\"legendgroup\":\"\",\"marker\":{\"color\":\"#636efa\"},\"name\":\"\",\"notched\":false,\"offsetgroup\":\"\",\"orientation\":\"v\",\"showlegend\":false,\"x\":[\"Jan\",\"Jan\",\"Jan\",\"Jan\",\"Jan\",\"Jan\",\"Jan\",\"Jan\",\"Jan\",\"Jan\",\"Feb\",\"Feb\",\"Feb\",\"Feb\",\"Feb\",\"Feb\",\"Feb\",\"Feb\",\"Feb\",\"Feb\",\"Mar\",\"Mar\",\"Mar\",\"Mar\",\"Mar\",\"Mar\",\"Mar\",\"Mar\",\"Mar\",\"Mar\",\"Mar\",\"Mar\",\"Mar\",\"Apr\",\"Apr\",\"Apr\",\"Apr\",\"Apr\",\"Apr\",\"Apr\",\"Apr\",\"Apr\",\"Apr\",\"Apr\",\"Apr\",\"Apr\",\"Apr\",\"Apr\",\"Apr\",\"May\",\"May\",\"May\",\"May\",\"May\",\"Jun\",\"Jun\",\"Jun\",\"Jun\",\"Jun\",\"Jun\",\"Jun\",\"Jun\",\"Jun\",\"Jun\",\"Jun\",\"Jun\",\"Jun\",\"Jun\"],\"x0\":\" \",\"xaxis\":\"x\",\"y\":[1.46,10.74,2.93,1.39,17.84,1.65,15.86,2.22,1177.0,2.75,10.75,10.81,5.97,3.69,16.7,1.26,2.63,11.01,1.18,0.91,12.42,16.58,1334.0,2.88,2.04,13.57,1.65,10.1,3.08,4.2,2.56,18.28,21.04,100.0,2.62,7.08,17.15,1063.0,10.06,10.15,269.0,10.24,7.39,6.01,20.03,15.66,2.79,10.02,16.5,1.1,1046.0,12.15,2.27,5.97,1162.0,749.0,10.69,11.88,1.03,11.01,10.15,16.29,15.98,1813.0,16.61,11.53,5.24,2.27],\"y0\":\" \",\"yaxis\":\"y\",\"type\":\"box\"}],                        {\"template\":{\"data\":{\"histogram2dcontour\":[{\"type\":\"histogram2dcontour\",\"colorbar\":{\"outlinewidth\":0,\"ticks\":\"\"},\"colorscale\":[[0.0,\"#0d0887\"],[0.1111111111111111,\"#46039f\"],[0.2222222222222222,\"#7201a8\"],[0.3333333333333333,\"#9c179e\"],[0.4444444444444444,\"#bd3786\"],[0.5555555555555556,\"#d8576b\"],[0.6666666666666666,\"#ed7953\"],[0.7777777777777778,\"#fb9f3a\"],[0.8888888888888888,\"#fdca26\"],[1.0,\"#f0f921\"]]}],\"choropleth\":[{\"type\":\"choropleth\",\"colorbar\":{\"outlinewidth\":0,\"ticks\":\"\"}}],\"histogram2d\":[{\"type\":\"histogram2d\",\"colorbar\":{\"outlinewidth\":0,\"ticks\":\"\"},\"colorscale\":[[0.0,\"#0d0887\"],[0.1111111111111111,\"#46039f\"],[0.2222222222222222,\"#7201a8\"],[0.3333333333333333,\"#9c179e\"],[0.4444444444444444,\"#bd3786\"],[0.5555555555555556,\"#d8576b\"],[0.6666666666666666,\"#ed7953\"],[0.7777777777777778,\"#fb9f3a\"],[0.8888888888888888,\"#fdca26\"],[1.0,\"#f0f921\"]]}],\"heatmap\":[{\"type\":\"heatmap\",\"colorbar\":{\"outlinewidth\":0,\"ticks\":\"\"},\"colorscale\":[[0.0,\"#0d0887\"],[0.1111111111111111,\"#46039f\"],[0.2222222222222222,\"#7201a8\"],[0.3333333333333333,\"#9c179e\"],[0.4444444444444444,\"#bd3786\"],[0.5555555555555556,\"#d8576b\"],[0.6666666666666666,\"#ed7953\"],[0.7777777777777778,\"#fb9f3a\"],[0.8888888888888888,\"#fdca26\"],[1.0,\"#f0f921\"]]}],\"heatmapgl\":[{\"type\":\"heatmapgl\",\"colorbar\":{\"outlinewidth\":0,\"ticks\":\"\"},\"colorscale\":[[0.0,\"#0d0887\"],[0.1111111111111111,\"#46039f\"],[0.2222222222222222,\"#7201a8\"],[0.3333333333333333,\"#9c179e\"],[0.4444444444444444,\"#bd3786\"],[0.5555555555555556,\"#d8576b\"],[0.6666666666666666,\"#ed7953\"],[0.7777777777777778,\"#fb9f3a\"],[0.8888888888888888,\"#fdca26\"],[1.0,\"#f0f921\"]]}],\"contourcarpet\":[{\"type\":\"contourcarpet\",\"colorbar\":{\"outlinewidth\":0,\"ticks\":\"\"}}],\"contour\":[{\"type\":\"contour\",\"colorbar\":{\"outlinewidth\":0,\"ticks\":\"\"},\"colorscale\":[[0.0,\"#0d0887\"],[0.1111111111111111,\"#46039f\"],[0.2222222222222222,\"#7201a8\"],[0.3333333333333333,\"#9c179e\"],[0.4444444444444444,\"#bd3786\"],[0.5555555555555556,\"#d8576b\"],[0.6666666666666666,\"#ed7953\"],[0.7777777777777778,\"#fb9f3a\"],[0.8888888888888888,\"#fdca26\"],[1.0,\"#f0f921\"]]}],\"surface\":[{\"type\":\"surface\",\"colorbar\":{\"outlinewidth\":0,\"ticks\":\"\"},\"colorscale\":[[0.0,\"#0d0887\"],[0.1111111111111111,\"#46039f\"],[0.2222222222222222,\"#7201a8\"],[0.3333333333333333,\"#9c179e\"],[0.4444444444444444,\"#bd3786\"],[0.5555555555555556,\"#d8576b\"],[0.6666666666666666,\"#ed7953\"],[0.7777777777777778,\"#fb9f3a\"],[0.8888888888888888,\"#fdca26\"],[1.0,\"#f0f921\"]]}],\"mesh3d\":[{\"type\":\"mesh3d\",\"colorbar\":{\"outlinewidth\":0,\"ticks\":\"\"}}],\"scatter\":[{\"fillpattern\":{\"fillmode\":\"overlay\",\"size\":10,\"solidity\":0.2},\"type\":\"scatter\"}],\"parcoords\":[{\"type\":\"parcoords\",\"line\":{\"colorbar\":{\"outlinewidth\":0,\"ticks\":\"\"}}}],\"scatterpolargl\":[{\"type\":\"scatterpolargl\",\"marker\":{\"colorbar\":{\"outlinewidth\":0,\"ticks\":\"\"}}}],\"bar\":[{\"error_x\":{\"color\":\"#2a3f5f\"},\"error_y\":{\"color\":\"#2a3f5f\"},\"marker\":{\"line\":{\"color\":\"#E5ECF6\",\"width\":0.5},\"pattern\":{\"fillmode\":\"overlay\",\"size\":10,\"solidity\":0.2}},\"type\":\"bar\"}],\"scattergeo\":[{\"type\":\"scattergeo\",\"marker\":{\"colorbar\":{\"outlinewidth\":0,\"ticks\":\"\"}}}],\"scatterpolar\":[{\"type\":\"scatterpolar\",\"marker\":{\"colorbar\":{\"outlinewidth\":0,\"ticks\":\"\"}}}],\"histogram\":[{\"marker\":{\"pattern\":{\"fillmode\":\"overlay\",\"size\":10,\"solidity\":0.2}},\"type\":\"histogram\"}],\"scattergl\":[{\"type\":\"scattergl\",\"marker\":{\"colorbar\":{\"outlinewidth\":0,\"ticks\":\"\"}}}],\"scatter3d\":[{\"type\":\"scatter3d\",\"line\":{\"colorbar\":{\"outlinewidth\":0,\"ticks\":\"\"}},\"marker\":{\"colorbar\":{\"outlinewidth\":0,\"ticks\":\"\"}}}],\"scattermapbox\":[{\"type\":\"scattermapbox\",\"marker\":{\"colorbar\":{\"outlinewidth\":0,\"ticks\":\"\"}}}],\"scatterternary\":[{\"type\":\"scatterternary\",\"marker\":{\"colorbar\":{\"outlinewidth\":0,\"ticks\":\"\"}}}],\"scattercarpet\":[{\"type\":\"scattercarpet\",\"marker\":{\"colorbar\":{\"outlinewidth\":0,\"ticks\":\"\"}}}],\"carpet\":[{\"aaxis\":{\"endlinecolor\":\"#2a3f5f\",\"gridcolor\":\"white\",\"linecolor\":\"white\",\"minorgridcolor\":\"white\",\"startlinecolor\":\"#2a3f5f\"},\"baxis\":{\"endlinecolor\":\"#2a3f5f\",\"gridcolor\":\"white\",\"linecolor\":\"white\",\"minorgridcolor\":\"white\",\"startlinecolor\":\"#2a3f5f\"},\"type\":\"carpet\"}],\"table\":[{\"cells\":{\"fill\":{\"color\":\"#EBF0F8\"},\"line\":{\"color\":\"white\"}},\"header\":{\"fill\":{\"color\":\"#C8D4E3\"},\"line\":{\"color\":\"white\"}},\"type\":\"table\"}],\"barpolar\":[{\"marker\":{\"line\":{\"color\":\"#E5ECF6\",\"width\":0.5},\"pattern\":{\"fillmode\":\"overlay\",\"size\":10,\"solidity\":0.2}},\"type\":\"barpolar\"}],\"pie\":[{\"automargin\":true,\"type\":\"pie\"}]},\"layout\":{\"autotypenumbers\":\"strict\",\"colorway\":[\"#636efa\",\"#EF553B\",\"#00cc96\",\"#ab63fa\",\"#FFA15A\",\"#19d3f3\",\"#FF6692\",\"#B6E880\",\"#FF97FF\",\"#FECB52\"],\"font\":{\"color\":\"#2a3f5f\"},\"hovermode\":\"closest\",\"hoverlabel\":{\"align\":\"left\"},\"paper_bgcolor\":\"white\",\"plot_bgcolor\":\"#E5ECF6\",\"polar\":{\"bgcolor\":\"#E5ECF6\",\"angularaxis\":{\"gridcolor\":\"white\",\"linecolor\":\"white\",\"ticks\":\"\"},\"radialaxis\":{\"gridcolor\":\"white\",\"linecolor\":\"white\",\"ticks\":\"\"}},\"ternary\":{\"bgcolor\":\"#E5ECF6\",\"aaxis\":{\"gridcolor\":\"white\",\"linecolor\":\"white\",\"ticks\":\"\"},\"baxis\":{\"gridcolor\":\"white\",\"linecolor\":\"white\",\"ticks\":\"\"},\"caxis\":{\"gridcolor\":\"white\",\"linecolor\":\"white\",\"ticks\":\"\"}},\"coloraxis\":{\"colorbar\":{\"outlinewidth\":0,\"ticks\":\"\"}},\"colorscale\":{\"sequential\":[[0.0,\"#0d0887\"],[0.1111111111111111,\"#46039f\"],[0.2222222222222222,\"#7201a8\"],[0.3333333333333333,\"#9c179e\"],[0.4444444444444444,\"#bd3786\"],[0.5555555555555556,\"#d8576b\"],[0.6666666666666666,\"#ed7953\"],[0.7777777777777778,\"#fb9f3a\"],[0.8888888888888888,\"#fdca26\"],[1.0,\"#f0f921\"]],\"sequentialminus\":[[0.0,\"#0d0887\"],[0.1111111111111111,\"#46039f\"],[0.2222222222222222,\"#7201a8\"],[0.3333333333333333,\"#9c179e\"],[0.4444444444444444,\"#bd3786\"],[0.5555555555555556,\"#d8576b\"],[0.6666666666666666,\"#ed7953\"],[0.7777777777777778,\"#fb9f3a\"],[0.8888888888888888,\"#fdca26\"],[1.0,\"#f0f921\"]],\"diverging\":[[0,\"#8e0152\"],[0.1,\"#c51b7d\"],[0.2,\"#de77ae\"],[0.3,\"#f1b6da\"],[0.4,\"#fde0ef\"],[0.5,\"#f7f7f7\"],[0.6,\"#e6f5d0\"],[0.7,\"#b8e186\"],[0.8,\"#7fbc41\"],[0.9,\"#4d9221\"],[1,\"#276419\"]]},\"xaxis\":{\"gridcolor\":\"white\",\"linecolor\":\"white\",\"ticks\":\"\",\"title\":{\"standoff\":15},\"zerolinecolor\":\"white\",\"automargin\":true,\"zerolinewidth\":2},\"yaxis\":{\"gridcolor\":\"white\",\"linecolor\":\"white\",\"ticks\":\"\",\"title\":{\"standoff\":15},\"zerolinecolor\":\"white\",\"automargin\":true,\"zerolinewidth\":2},\"scene\":{\"xaxis\":{\"backgroundcolor\":\"#E5ECF6\",\"gridcolor\":\"white\",\"linecolor\":\"white\",\"showbackground\":true,\"ticks\":\"\",\"zerolinecolor\":\"white\",\"gridwidth\":2},\"yaxis\":{\"backgroundcolor\":\"#E5ECF6\",\"gridcolor\":\"white\",\"linecolor\":\"white\",\"showbackground\":true,\"ticks\":\"\",\"zerolinecolor\":\"white\",\"gridwidth\":2},\"zaxis\":{\"backgroundcolor\":\"#E5ECF6\",\"gridcolor\":\"white\",\"linecolor\":\"white\",\"showbackground\":true,\"ticks\":\"\",\"zerolinecolor\":\"white\",\"gridwidth\":2}},\"shapedefaults\":{\"line\":{\"color\":\"#2a3f5f\"}},\"annotationdefaults\":{\"arrowcolor\":\"#2a3f5f\",\"arrowhead\":0,\"arrowwidth\":1},\"geo\":{\"bgcolor\":\"white\",\"landcolor\":\"#E5ECF6\",\"subunitcolor\":\"white\",\"showland\":true,\"showlakes\":true,\"lakecolor\":\"white\"},\"title\":{\"x\":0.05},\"mapbox\":{\"style\":\"light\"}}},\"xaxis\":{\"anchor\":\"y\",\"domain\":[0.0,1.0],\"title\":{\"text\":\"date\"}},\"yaxis\":{\"anchor\":\"x\",\"domain\":[0.0,1.0],\"title\":{\"text\":\"amount\"}},\"legend\":{\"tracegroupgap\":0},\"title\":{\"text\":\"Transactions By Month for Card Holder 25\"},\"boxmode\":\"group\"},                        {\"responsive\": true}                    ).then(function(){\n",
       "                            \n",
       "var gd = document.getElementById('ecd8ccb7-9b06-456f-94a5-d9f66d38ba75');\n",
       "var x = new MutationObserver(function (mutations, observer) {{\n",
       "        var display = window.getComputedStyle(gd).display;\n",
       "        if (!display || display === 'none') {{\n",
       "            console.log([gd, 'removed!']);\n",
       "            Plotly.purge(gd);\n",
       "            observer.disconnect();\n",
       "        }}\n",
       "}});\n",
       "\n",
       "// Listen for the removal of the full notebook cells\n",
       "var notebookContainer = gd.closest('#notebook-container');\n",
       "if (notebookContainer) {{\n",
       "    x.observe(notebookContainer, {childList: true});\n",
       "}}\n",
       "\n",
       "// Listen for the clearing of the current output cell\n",
       "var outputEl = gd.closest('.output');\n",
       "if (outputEl) {{\n",
       "    x.observe(outputEl, {childList: true});\n",
       "}}\n",
       "\n",
       "                        })                };                });            </script>        </div>"
      ]
     },
     "metadata": {},
     "output_type": "display_data"
    }
   ],
   "source": [
    "# Generating the six box plots using plotly express\n",
    "fig = px.box(ch25_box_plot_df, x='date',\n",
    "             y='amount',\n",
    "            title=\"Transactions By Month for Card Holder 25\")\n",
    "fig.show()"
   ]
  },
  {
   "cell_type": "code",
   "execution_count": null,
   "id": "98177e2e",
   "metadata": {},
   "outputs": [],
   "source": []
  }
 ],
 "metadata": {
  "kernelspec": {
   "display_name": "Python 3 (ipykernel)",
   "language": "python",
   "name": "python3"
  },
  "language_info": {
   "codemirror_mode": {
    "name": "ipython",
    "version": 3
   },
   "file_extension": ".py",
   "mimetype": "text/x-python",
   "name": "python",
   "nbconvert_exporter": "python",
   "pygments_lexer": "ipython3",
   "version": "3.9.10"
  }
 },
 "nbformat": 4,
 "nbformat_minor": 5
}
